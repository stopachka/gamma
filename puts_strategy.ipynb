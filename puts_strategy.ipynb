{
 "cells": [
  {
   "cell_type": "code",
   "execution_count": 1,
   "metadata": {},
   "outputs": [],
   "source": [
    "import numpy as np\n",
    "import pandas as pd\n",
    "import matplotlib.pyplot as plt\n",
    "import matplotlib.dates as mdates\n",
    "import time\n",
    "import math\n",
    "\n",
    "from datetime import datetime"
   ]
  },
  {
   "cell_type": "markdown",
   "metadata": {},
   "source": [
    "## Stock Prices"
   ]
  },
  {
   "cell_type": "code",
   "execution_count": 2,
   "metadata": {},
   "outputs": [],
   "source": [
    "STOCK_PRICES_DATE_COL = 'Date'\n",
    "STOCK_PRICES_HIGH_COL = 'High'\n",
    "STOCK_PRICES_LOW_COL = 'Low'\n",
    "STOCK_PRICES_AVG_COL = 'Avg'\n",
    "\n",
    "def load_stock_prices(path):\n",
    "  stock_prices = pd.read_csv(path)\n",
    "  stock_prices[STOCK_PRICES_DATE_COL] = pd.to_datetime(stock_prices[STOCK_PRICES_DATE_COL])\n",
    "  stock_prices[STOCK_PRICES_AVG_COL] = ((stock_prices[STOCK_PRICES_HIGH_COL] + stock_prices[STOCK_PRICES_LOW_COL]) / 2)\n",
    "  stock_prices = stock_prices.set_index(STOCK_PRICES_DATE_COL)\n",
    "\n",
    "  return stock_prices"
   ]
  },
  {
   "cell_type": "code",
   "execution_count": 3,
   "metadata": {},
   "outputs": [
    {
     "output_type": "execute_result",
     "data": {
      "text/html": "<div>\n<style scoped>\n    .dataframe tbody tr th:only-of-type {\n        vertical-align: middle;\n    }\n\n    .dataframe tbody tr th {\n        vertical-align: top;\n    }\n\n    .dataframe thead th {\n        text-align: right;\n    }\n</style>\n<table border=\"1\" class=\"dataframe\">\n  <thead>\n    <tr style=\"text-align: right;\">\n      <th></th>\n      <th>Open</th>\n      <th>High</th>\n      <th>Low</th>\n      <th>Close</th>\n      <th>Adj Close</th>\n      <th>Volume</th>\n      <th>Avg</th>\n    </tr>\n    <tr>\n      <th>Date</th>\n      <th></th>\n      <th></th>\n      <th></th>\n      <th></th>\n      <th></th>\n      <th></th>\n      <th></th>\n    </tr>\n  </thead>\n  <tbody>\n    <tr>\n      <th>2000-01-03</th>\n      <td>1469.250000</td>\n      <td>1478.000000</td>\n      <td>1438.359985</td>\n      <td>1455.219971</td>\n      <td>1455.219971</td>\n      <td>931800000</td>\n      <td>1458.179993</td>\n    </tr>\n    <tr>\n      <th>2000-01-04</th>\n      <td>1455.219971</td>\n      <td>1455.219971</td>\n      <td>1397.430054</td>\n      <td>1399.420044</td>\n      <td>1399.420044</td>\n      <td>1009000000</td>\n      <td>1426.325012</td>\n    </tr>\n    <tr>\n      <th>2000-01-05</th>\n      <td>1399.420044</td>\n      <td>1413.270020</td>\n      <td>1377.680054</td>\n      <td>1402.109985</td>\n      <td>1402.109985</td>\n      <td>1085500000</td>\n      <td>1395.475037</td>\n    </tr>\n    <tr>\n      <th>2000-01-06</th>\n      <td>1402.109985</td>\n      <td>1411.900024</td>\n      <td>1392.099976</td>\n      <td>1403.449951</td>\n      <td>1403.449951</td>\n      <td>1092300000</td>\n      <td>1402.000000</td>\n    </tr>\n    <tr>\n      <th>2000-01-07</th>\n      <td>1403.449951</td>\n      <td>1441.469971</td>\n      <td>1400.729980</td>\n      <td>1441.469971</td>\n      <td>1441.469971</td>\n      <td>1225200000</td>\n      <td>1421.099976</td>\n    </tr>\n    <tr>\n      <th>...</th>\n      <td>...</td>\n      <td>...</td>\n      <td>...</td>\n      <td>...</td>\n      <td>...</td>\n      <td>...</td>\n      <td>...</td>\n    </tr>\n    <tr>\n      <th>2020-03-16</th>\n      <td>2508.590088</td>\n      <td>2562.979980</td>\n      <td>2380.939941</td>\n      <td>2386.129883</td>\n      <td>2386.129883</td>\n      <td>7781540000</td>\n      <td>2471.959961</td>\n    </tr>\n    <tr>\n      <th>2020-03-17</th>\n      <td>2425.659912</td>\n      <td>2553.929932</td>\n      <td>2367.040039</td>\n      <td>2529.189941</td>\n      <td>2529.189941</td>\n      <td>8358500000</td>\n      <td>2460.484986</td>\n    </tr>\n    <tr>\n      <th>2020-03-18</th>\n      <td>2436.500000</td>\n      <td>2453.570068</td>\n      <td>2280.520020</td>\n      <td>2398.100098</td>\n      <td>2398.100098</td>\n      <td>8755780000</td>\n      <td>2367.045044</td>\n    </tr>\n    <tr>\n      <th>2020-03-19</th>\n      <td>2393.479980</td>\n      <td>2466.969971</td>\n      <td>2319.780029</td>\n      <td>2409.389893</td>\n      <td>2409.389893</td>\n      <td>7946710000</td>\n      <td>2393.375000</td>\n    </tr>\n    <tr>\n      <th>2020-03-20</th>\n      <td>2431.939941</td>\n      <td>2453.010010</td>\n      <td>2295.560059</td>\n      <td>2304.919922</td>\n      <td>2304.919922</td>\n      <td>9044690000</td>\n      <td>2374.285034</td>\n    </tr>\n  </tbody>\n</table>\n<p>5086 rows × 7 columns</p>\n</div>",
      "text/plain": "                   Open         High          Low        Close    Adj Close  \\\nDate                                                                          \n2000-01-03  1469.250000  1478.000000  1438.359985  1455.219971  1455.219971   \n2000-01-04  1455.219971  1455.219971  1397.430054  1399.420044  1399.420044   \n2000-01-05  1399.420044  1413.270020  1377.680054  1402.109985  1402.109985   \n2000-01-06  1402.109985  1411.900024  1392.099976  1403.449951  1403.449951   \n2000-01-07  1403.449951  1441.469971  1400.729980  1441.469971  1441.469971   \n...                 ...          ...          ...          ...          ...   \n2020-03-16  2508.590088  2562.979980  2380.939941  2386.129883  2386.129883   \n2020-03-17  2425.659912  2553.929932  2367.040039  2529.189941  2529.189941   \n2020-03-18  2436.500000  2453.570068  2280.520020  2398.100098  2398.100098   \n2020-03-19  2393.479980  2466.969971  2319.780029  2409.389893  2409.389893   \n2020-03-20  2431.939941  2453.010010  2295.560059  2304.919922  2304.919922   \n\n                Volume          Avg  \nDate                                 \n2000-01-03   931800000  1458.179993  \n2000-01-04  1009000000  1426.325012  \n2000-01-05  1085500000  1395.475037  \n2000-01-06  1092300000  1402.000000  \n2000-01-07  1225200000  1421.099976  \n...                ...          ...  \n2020-03-16  7781540000  2471.959961  \n2020-03-17  8358500000  2460.484986  \n2020-03-18  8755780000  2367.045044  \n2020-03-19  7946710000  2393.375000  \n2020-03-20  9044690000  2374.285034  \n\n[5086 rows x 7 columns]"
     },
     "metadata": {},
     "execution_count": 3
    }
   ],
   "source": [
    "SPX_PRICES_FILE_PATH = 'spx_index_prices.csv'\n",
    "STOCK_PRICES = load_stock_prices(SPX_PRICES_FILE_PATH)\n",
    "STOCK_PRICES"
   ]
  },
  {
   "cell_type": "code",
   "execution_count": 8,
   "metadata": {},
   "outputs": [],
   "source": [
    "def get_stock_price(date):\n",
    "  return STOCK_PRICES.loc[date][STOCK_PRICES_AVG_COL]"
   ]
  },
  {
   "cell_type": "markdown",
   "metadata": {},
   "source": [
    "## Option Prices"
   ]
  },
  {
   "cell_type": "code",
   "execution_count": 14,
   "metadata": {},
   "outputs": [],
   "source": [
    "OPTION_PRICES_DATE_COL = 'date'\n",
    "OPTION_PRICES_EXPIRATION_COL = 'exdate'\n",
    "OPTION_PRICES_MATURITY_COL = 'maturity'\n",
    "OPTION_PRICES_STRIKE_COL = 'strike_price'\n",
    "OPTION_PRICES_BID_COL = 'best_bid'\n",
    "OPTION_PRICES_OFFER_COL = 'best_offer'\n",
    "OPTION_PRICES_SPREAD_COL = 'spread'\n",
    "OPTION_PRICES_AVG_COL = 'avg'\n",
    "OPTION_PRICES_ID_COL = 'optionid'\n",
    "OPTION_PRICES_DATE_FMT = '%Y%m%d'\n",
    "OPTION_PRICES_ID_COL = 'optionid'\n",
    "OPTION_PRICES_OTM_RANGE = 'otm_range'\n",
    "\n",
    "def load_option_prices(path):\n",
    "  option_prices = pd.read_csv(SPX_OPTION_PRICES_FILE_PATH);\n",
    "  option_prices[OPTION_PRICES_DATE_COL] = pd.to_datetime(\n",
    "      option_prices[OPTION_PRICES_DATE_COL],\n",
    "      format=OPTION_PRICES_DATE_FMT)\n",
    "  option_prices[OPTION_PRICES_EXPIRATION_COL] = pd.to_datetime(\n",
    "      option_prices[OPTION_PRICES_EXPIRATION_COL],\n",
    "      format=OPTION_PRICES_DATE_FMT)\n",
    "  option_prices[OPTION_PRICES_STRIKE_COL] = option_prices[OPTION_PRICES_STRIKE_COL].div(1000)\n",
    "  option_prices[OPTION_PRICES_MATURITY_COL] = (\n",
    "    option_prices[OPTION_PRICES_EXPIRATION_COL] - \n",
    "    option_prices[OPTION_PRICES_DATE_COL]\n",
    "  ).dt.days\n",
    "  option_prices[OPTION_PRICES_SPREAD_COL] = (\n",
    "    option_prices[OPTION_PRICES_OFFER_COL] - \n",
    "    option_prices[OPTION_PRICES_BID_COL]\n",
    "  )\n",
    "  option_prices[OPTION_PRICES_AVG_COL] = (\n",
    "    (\n",
    "      option_prices[OPTION_PRICES_OFFER_COL] +\n",
    "      option_prices[OPTION_PRICES_BID_COL]\n",
    "    ) / 2\n",
    "  )\n",
    "\n",
    "  return option_prices"
   ]
  },
  {
   "cell_type": "code",
   "execution_count": 5,
   "metadata": {},
   "outputs": [
    {
     "output_type": "execute_result",
     "data": {
      "text/html": "<div>\n<style scoped>\n    .dataframe tbody tr th:only-of-type {\n        vertical-align: middle;\n    }\n\n    .dataframe tbody tr th {\n        vertical-align: top;\n    }\n\n    .dataframe thead th {\n        text-align: right;\n    }\n</style>\n<table border=\"1\" class=\"dataframe\">\n  <thead>\n    <tr style=\"text-align: right;\">\n      <th></th>\n      <th>secid</th>\n      <th>date</th>\n      <th>exdate</th>\n      <th>last_date</th>\n      <th>cp_flag</th>\n      <th>strike_price</th>\n      <th>best_bid</th>\n      <th>best_offer</th>\n      <th>volume</th>\n      <th>open_interest</th>\n      <th>...</th>\n      <th>vega</th>\n      <th>theta</th>\n      <th>optionid</th>\n      <th>forward_price</th>\n      <th>index_flag</th>\n      <th>issuer</th>\n      <th>exercise_style</th>\n      <th>maturity</th>\n      <th>spread</th>\n      <th>avg</th>\n    </tr>\n  </thead>\n  <tbody>\n    <tr>\n      <th>0</th>\n      <td>108105</td>\n      <td>2000-01-03</td>\n      <td>2000-03-18</td>\n      <td>19991229.0</td>\n      <td>P</td>\n      <td>1410.0</td>\n      <td>36.750</td>\n      <td>38.750</td>\n      <td>0</td>\n      <td>1</td>\n      <td>...</td>\n      <td>235.99500</td>\n      <td>-119.41110</td>\n      <td>10120210</td>\n      <td>1470.521157</td>\n      <td>1</td>\n      <td>CBOE S&amp;P 500 INDEX</td>\n      <td>E</td>\n      <td>75</td>\n      <td>2.0</td>\n      <td>37.750</td>\n    </tr>\n    <tr>\n      <th>1</th>\n      <td>108105</td>\n      <td>2000-01-03</td>\n      <td>2000-01-22</td>\n      <td>19991223.0</td>\n      <td>P</td>\n      <td>1505.0</td>\n      <td>55.250</td>\n      <td>57.250</td>\n      <td>0</td>\n      <td>50</td>\n      <td>...</td>\n      <td>100.89450</td>\n      <td>-172.62950</td>\n      <td>10000760</td>\n      <td>1458.650389</td>\n      <td>1</td>\n      <td>CBOE S&amp;P 500 INDEX</td>\n      <td>E</td>\n      <td>19</td>\n      <td>2.0</td>\n      <td>56.250</td>\n    </tr>\n    <tr>\n      <th>2</th>\n      <td>108105</td>\n      <td>2000-01-03</td>\n      <td>2000-06-17</td>\n      <td>20000103.0</td>\n      <td>P</td>\n      <td>1350.0</td>\n      <td>40.750</td>\n      <td>42.750</td>\n      <td>290</td>\n      <td>14570</td>\n      <td>...</td>\n      <td>311.57080</td>\n      <td>-66.86736</td>\n      <td>10016917</td>\n      <td>1490.761534</td>\n      <td>1</td>\n      <td>CBOE S&amp;P 500 INDEX</td>\n      <td>E</td>\n      <td>166</td>\n      <td>2.0</td>\n      <td>41.750</td>\n    </tr>\n    <tr>\n      <th>3</th>\n      <td>108105</td>\n      <td>2000-01-03</td>\n      <td>2000-01-22</td>\n      <td>20000103.0</td>\n      <td>P</td>\n      <td>1500.0</td>\n      <td>51.625</td>\n      <td>53.625</td>\n      <td>57</td>\n      <td>505</td>\n      <td>...</td>\n      <td>105.71350</td>\n      <td>-186.79210</td>\n      <td>10149633</td>\n      <td>1458.650389</td>\n      <td>1</td>\n      <td>CBOE S&amp;P 500 INDEX</td>\n      <td>E</td>\n      <td>19</td>\n      <td>2.0</td>\n      <td>52.625</td>\n    </tr>\n    <tr>\n      <th>4</th>\n      <td>108105</td>\n      <td>2000-01-03</td>\n      <td>2000-01-22</td>\n      <td>NaN</td>\n      <td>P</td>\n      <td>1540.0</td>\n      <td>84.875</td>\n      <td>86.875</td>\n      <td>0</td>\n      <td>0</td>\n      <td>...</td>\n      <td>68.56206</td>\n      <td>-96.37443</td>\n      <td>10056576</td>\n      <td>1458.650389</td>\n      <td>1</td>\n      <td>CBOE S&amp;P 500 INDEX</td>\n      <td>E</td>\n      <td>19</td>\n      <td>2.0</td>\n      <td>85.875</td>\n    </tr>\n    <tr>\n      <th>...</th>\n      <td>...</td>\n      <td>...</td>\n      <td>...</td>\n      <td>...</td>\n      <td>...</td>\n      <td>...</td>\n      <td>...</td>\n      <td>...</td>\n      <td>...</td>\n      <td>...</td>\n      <td>...</td>\n      <td>...</td>\n      <td>...</td>\n      <td>...</td>\n      <td>...</td>\n      <td>...</td>\n      <td>...</td>\n      <td>...</td>\n      <td>...</td>\n      <td>...</td>\n      <td>...</td>\n    </tr>\n    <tr>\n      <th>8462523</th>\n      <td>108105</td>\n      <td>2019-06-28</td>\n      <td>2020-06-30</td>\n      <td>NaN</td>\n      <td>P</td>\n      <td>3800.0</td>\n      <td>824.100</td>\n      <td>848.000</td>\n      <td>0</td>\n      <td>0</td>\n      <td>...</td>\n      <td>NaN</td>\n      <td>NaN</td>\n      <td>129500433</td>\n      <td>2942.162769</td>\n      <td>1</td>\n      <td>CBOE S&amp;P 500 INDEX</td>\n      <td>E</td>\n      <td>368</td>\n      <td>23.9</td>\n      <td>836.050</td>\n    </tr>\n    <tr>\n      <th>8462524</th>\n      <td>108105</td>\n      <td>2019-06-28</td>\n      <td>2020-06-30</td>\n      <td>NaN</td>\n      <td>P</td>\n      <td>3900.0</td>\n      <td>921.200</td>\n      <td>945.200</td>\n      <td>0</td>\n      <td>0</td>\n      <td>...</td>\n      <td>NaN</td>\n      <td>NaN</td>\n      <td>129500434</td>\n      <td>2942.162769</td>\n      <td>1</td>\n      <td>CBOE S&amp;P 500 INDEX</td>\n      <td>E</td>\n      <td>368</td>\n      <td>24.0</td>\n      <td>933.200</td>\n    </tr>\n    <tr>\n      <th>8462525</th>\n      <td>108105</td>\n      <td>2019-06-28</td>\n      <td>2020-06-30</td>\n      <td>NaN</td>\n      <td>P</td>\n      <td>4000.0</td>\n      <td>1018.700</td>\n      <td>1042.500</td>\n      <td>0</td>\n      <td>0</td>\n      <td>...</td>\n      <td>NaN</td>\n      <td>NaN</td>\n      <td>129500435</td>\n      <td>2942.162769</td>\n      <td>1</td>\n      <td>CBOE S&amp;P 500 INDEX</td>\n      <td>E</td>\n      <td>368</td>\n      <td>23.8</td>\n      <td>1030.600</td>\n    </tr>\n    <tr>\n      <th>8462526</th>\n      <td>108105</td>\n      <td>2019-06-28</td>\n      <td>2020-06-30</td>\n      <td>NaN</td>\n      <td>P</td>\n      <td>4100.0</td>\n      <td>1116.100</td>\n      <td>1140.000</td>\n      <td>0</td>\n      <td>0</td>\n      <td>...</td>\n      <td>NaN</td>\n      <td>NaN</td>\n      <td>129500436</td>\n      <td>2942.162769</td>\n      <td>1</td>\n      <td>CBOE S&amp;P 500 INDEX</td>\n      <td>E</td>\n      <td>368</td>\n      <td>23.9</td>\n      <td>1128.050</td>\n    </tr>\n    <tr>\n      <th>8462527</th>\n      <td>108105</td>\n      <td>2019-06-28</td>\n      <td>2020-06-30</td>\n      <td>NaN</td>\n      <td>P</td>\n      <td>4200.0</td>\n      <td>1213.900</td>\n      <td>1237.900</td>\n      <td>0</td>\n      <td>0</td>\n      <td>...</td>\n      <td>NaN</td>\n      <td>NaN</td>\n      <td>129500437</td>\n      <td>2942.162769</td>\n      <td>1</td>\n      <td>CBOE S&amp;P 500 INDEX</td>\n      <td>E</td>\n      <td>368</td>\n      <td>24.0</td>\n      <td>1225.900</td>\n    </tr>\n  </tbody>\n</table>\n<p>8462528 rows × 23 columns</p>\n</div>",
      "text/plain": "          secid       date     exdate   last_date cp_flag  strike_price  \\\n0        108105 2000-01-03 2000-03-18  19991229.0       P        1410.0   \n1        108105 2000-01-03 2000-01-22  19991223.0       P        1505.0   \n2        108105 2000-01-03 2000-06-17  20000103.0       P        1350.0   \n3        108105 2000-01-03 2000-01-22  20000103.0       P        1500.0   \n4        108105 2000-01-03 2000-01-22         NaN       P        1540.0   \n...         ...        ...        ...         ...     ...           ...   \n8462523  108105 2019-06-28 2020-06-30         NaN       P        3800.0   \n8462524  108105 2019-06-28 2020-06-30         NaN       P        3900.0   \n8462525  108105 2019-06-28 2020-06-30         NaN       P        4000.0   \n8462526  108105 2019-06-28 2020-06-30         NaN       P        4100.0   \n8462527  108105 2019-06-28 2020-06-30         NaN       P        4200.0   \n\n         best_bid  best_offer  volume  open_interest  ...       vega  \\\n0          36.750      38.750       0              1  ...  235.99500   \n1          55.250      57.250       0             50  ...  100.89450   \n2          40.750      42.750     290          14570  ...  311.57080   \n3          51.625      53.625      57            505  ...  105.71350   \n4          84.875      86.875       0              0  ...   68.56206   \n...           ...         ...     ...            ...  ...        ...   \n8462523   824.100     848.000       0              0  ...        NaN   \n8462524   921.200     945.200       0              0  ...        NaN   \n8462525  1018.700    1042.500       0              0  ...        NaN   \n8462526  1116.100    1140.000       0              0  ...        NaN   \n8462527  1213.900    1237.900       0              0  ...        NaN   \n\n             theta   optionid  forward_price  index_flag              issuer  \\\n0       -119.41110   10120210    1470.521157           1  CBOE S&P 500 INDEX   \n1       -172.62950   10000760    1458.650389           1  CBOE S&P 500 INDEX   \n2        -66.86736   10016917    1490.761534           1  CBOE S&P 500 INDEX   \n3       -186.79210   10149633    1458.650389           1  CBOE S&P 500 INDEX   \n4        -96.37443   10056576    1458.650389           1  CBOE S&P 500 INDEX   \n...            ...        ...            ...         ...                 ...   \n8462523        NaN  129500433    2942.162769           1  CBOE S&P 500 INDEX   \n8462524        NaN  129500434    2942.162769           1  CBOE S&P 500 INDEX   \n8462525        NaN  129500435    2942.162769           1  CBOE S&P 500 INDEX   \n8462526        NaN  129500436    2942.162769           1  CBOE S&P 500 INDEX   \n8462527        NaN  129500437    2942.162769           1  CBOE S&P 500 INDEX   \n\n         exercise_style  maturity spread       avg  \n0                     E        75    2.0    37.750  \n1                     E        19    2.0    56.250  \n2                     E       166    2.0    41.750  \n3                     E        19    2.0    52.625  \n4                     E        19    2.0    85.875  \n...                 ...       ...    ...       ...  \n8462523               E       368   23.9   836.050  \n8462524               E       368   24.0   933.200  \n8462525               E       368   23.8  1030.600  \n8462526               E       368   23.9  1128.050  \n8462527               E       368   24.0  1225.900  \n\n[8462528 rows x 23 columns]"
     },
     "metadata": {},
     "execution_count": 5
    }
   ],
   "source": [
    "SPX_OPTION_PRICES_FILE_PATH = 'spx_option_prices.csv'\n",
    "OPTION_PRICES = load_option_prices(SPX_OPTION_PRICES_FILE_PATH)\n",
    "OPTION_PRICES"
   ]
  },
  {
   "cell_type": "markdown",
   "metadata": {},
   "source": [
    "## Portfolio\n"
   ]
  },
  {
   "cell_type": "code",
   "execution_count": 6,
   "metadata": {},
   "outputs": [],
   "source": [
    "PORTFOLIO_DATE = 'date'\n",
    "PORTFOLIO_CASH = 'cash'\n",
    "PORTFOLIO_STOCK_QUANTITY = 'stock_quantity'\n",
    "PORTFOLIO_OPTION_QUANTITY = 'option_quantity'\n",
    "PORTFOLIO_OPTION_ID = 'option_id'\n",
    "\n",
    "def build_portfolio_log(): \n",
    "  portfolio_log = pd.DataFrame(\n",
    "    columns=[\n",
    "        PORTFOLIO_DATE,\n",
    "        PORTFOLIO_CASH,\n",
    "        PORTFOLIO_STOCK_QUANTITY,\n",
    "        PORTFOLIO_OPTION_QUANTITY,\n",
    "        PORTFOLIO_OPTION_ID,\n",
    "    ]\n",
    "  )\n",
    "  portfolio_log.index = portfolio_log[PORTFOLIO_DATE]\n",
    "\n",
    "  return portfolio_log"
   ]
  },
  {
   "cell_type": "code",
   "execution_count": 7,
   "metadata": {},
   "outputs": [
    {
     "output_type": "execute_result",
     "data": {
      "text/html": "<div>\n<style scoped>\n    .dataframe tbody tr th:only-of-type {\n        vertical-align: middle;\n    }\n\n    .dataframe tbody tr th {\n        vertical-align: top;\n    }\n\n    .dataframe thead th {\n        text-align: right;\n    }\n</style>\n<table border=\"1\" class=\"dataframe\">\n  <thead>\n    <tr style=\"text-align: right;\">\n      <th></th>\n      <th>date</th>\n      <th>cash</th>\n      <th>stock_quantity</th>\n      <th>option_quantity</th>\n      <th>option_id</th>\n    </tr>\n    <tr>\n      <th>date</th>\n      <th></th>\n      <th></th>\n      <th></th>\n      <th></th>\n      <th></th>\n    </tr>\n  </thead>\n  <tbody>\n  </tbody>\n</table>\n</div>",
      "text/plain": "Empty DataFrame\nColumns: [date, cash, stock_quantity, option_quantity, option_id]\nIndex: []"
     },
     "metadata": {},
     "execution_count": 7
    }
   ],
   "source": [
    "ex_portfolio_log = build_portfolio_log()\n",
    "ex_portfolio_log"
   ]
  },
  {
   "cell_type": "code",
   "execution_count": 8,
   "metadata": {},
   "outputs": [],
   "source": [
    "def build_portfolio_row(\n",
    "  date, \n",
    "  cash, \n",
    "  stock_quantity, \n",
    "  option_quantity,\n",
    "  option_id):\n",
    "  return pd.Series({\n",
    "    PORTFOLIO_DATE: date,\n",
    "    PORTFOLIO_CASH: cash,\n",
    "    PORTFOLIO_STOCK_QUANTITY: stock_quantity,\n",
    "    PORTFOLIO_OPTION_QUANTITY: option_quantity,\n",
    "    PORTFOLIO_OPTION_ID: option_id,\n",
    "  })"
   ]
  },
  {
   "cell_type": "code",
   "execution_count": 13,
   "metadata": {},
   "outputs": [
    {
     "output_type": "execute_result",
     "data": {
      "text/plain": "date               2000-01-03 00:00:00\ncash                              2000\nstock_quantity                     100\noption_quantity                   1000\noption_id                     10120210\ndtype: object"
     },
     "metadata": {},
     "execution_count": 13
    }
   ],
   "source": [
    "ex_portfolio_row = build_portfolio_row(\n",
    "  date=datetime(2000, 1, 3),\n",
    "  cash=2000,\n",
    "  stock_quantity=100,\n",
    "  option_quantity=1000,\n",
    "  option_id=10120210)\n",
    "\n",
    "ex_portfolio_row"
   ]
  },
  {
   "cell_type": "markdown",
   "metadata": {},
   "source": [
    "## Liquidation"
   ]
  },
  {
   "cell_type": "markdown",
   "metadata": {},
   "source": [
    "In order for us to figure out how much money we have available, let's create some functions to help us liquidate"
   ]
  },
  {
   "cell_type": "markdown",
   "metadata": {},
   "source": [
    "### SPX"
   ]
  },
  {
   "cell_type": "markdown",
   "metadata": {},
   "source": [
    "For a given a portfolio row, let's liquidate a requested quantity for the price at that date"
   ]
  },
  {
   "cell_type": "code",
   "execution_count": 17,
   "metadata": {},
   "outputs": [],
   "source": [
    "def get_stock_col(date, col):\n",
    "  stock_price_rows = STOCK_PRICES[STOCK_PRICES[STOCK_PRICES_DATE_COL] == date]\n",
    "  if (stock_price_rows.shape[0] != 1):\n",
    "    raise SystemExit(\"Uh oh, expected to find one stock price date = {}\".format(date))\n",
    "\n",
    "  return stock_price_rows.iloc[0][col]\n",
    "\n",
    "def get_stock_price(date):\n",
    "  return get_stock_col(date, STOCK_PRICES_AVG_COL)\n",
    "\n",
    "def get_stock_value(quantity, date):\n",
    "  return quantity * get_stock_price(date)\n",
    "\n",
    "def liquidate_stock(sell_quantity, portfolio_row):\n",
    "  owned_quantity = portfolio_row[PORTFOLIO_STOCK_QUANTITY]\n",
    "  if sell_quantity > owned_quantity:\n",
    "    raise SystemExist(\n",
    "      \"Sell Quantity = {} cannot be greater then Owned Quantity = {}\"\n",
    "        .format(sell_quantity, owned_quantity)\n",
    "    )\n",
    "  \n",
    "  new_portfolio = portfolio_row.copy()\n",
    "  new_portfolio[PORTFOLIO_STOCK_QUANTITY] = owned_quantity - sell_quantity\n",
    "  new_portfolio[PORTFOLIO_CASH] += get_stock_value(sell_quantity, portfolio_row[PORTFOLIO_DATE])\n",
    "\n",
    "  return new_portfolio"
   ]
  },
  {
   "cell_type": "code",
   "execution_count": 165,
   "metadata": {},
   "outputs": [
    {
     "output_type": "execute_result",
     "data": {
      "text/plain": "date                      2000-01-03 00:00:00\ncash                                   147818\nstock_quantity                              0\noption_quantity                          1000\noption_strike                            1100\noption_expiration_date    2000-02-19 00:00:00\ndtype: object"
     },
     "metadata": {},
     "execution_count": 165
    }
   ],
   "source": [
    "liquidate_stock(ex_portfolio_row[PORTFOLIO_STOCK_QUANTITY], ex_portfolio_row)"
   ]
  },
  {
   "cell_type": "markdown",
   "metadata": {},
   "source": [
    "### Option"
   ]
  },
  {
   "cell_type": "markdown",
   "metadata": {},
   "source": [
    "For an option order, we search through the database, to find the option that has the same date, expiration, and strike price"
   ]
  },
  {
   "cell_type": "code",
   "execution_count": 166,
   "metadata": {},
   "outputs": [],
   "source": [
    "def get_option_sell_price(option_row):\n",
    "  return option_row[OPTION_PRICES_BID_COL]\n",
    "\n",
    "def find_option_row(date, strike, expiration):\n",
    "  options_for_this_date = OPTION_PRICES[\n",
    "      OPTION_PRICES[OPTION_PRICES_DATE_COL] == date\n",
    "  ]\n",
    "  options_with_expiration = options_for_this_date[\n",
    "    OPTION_PRICES[OPTION_PRICES_EXPIRATION_COL] == expiration\n",
    "  ]\n",
    "  options_with_strike = options_with_expiration[\n",
    "    OPTION_PRICES[OPTION_PRICES_STRIKE_COL] == strike\n",
    "  ]\n",
    "  if options_with_strike.empty:\n",
    "    raise SystemExit(\n",
    "      \"Uh oh. I need to be able to find the option to sell it date={}, strike={}, expiration={}\"\n",
    "        .format(date, strike, expiration)\n",
    "    )\n",
    "  \n",
    "  return options_with_strike.iloc[0]\n",
    "\n",
    "def get_option_value(quantity, date, strike, expiration):\n",
    "  option_row = find_option_row(date, strike, expiration)\n",
    "  return get_option_sell_price(option_row) * quantity\n",
    "\n",
    "def liquidate_option(sell_quantity, portfolio_row):\n",
    "  owned_quantity = portfolio_row[PORTFOLIO_OPTION_QUANTITY]\n",
    "  if sell_quantity > owned_quantity:\n",
    "    raise SystemExist(\n",
    "      \"[Option] Sell Quantity = {} cannot be greater then Owned Quantity = {}\"\n",
    "        .format(sell_quantity, owned_quantity)\n",
    "    )\n",
    "  \n",
    "  new_portfolio = portfolio_row.copy()\n",
    "  new_portfolio[PORTFOLIO_OPTION_QUANTITY] = owned_quantity - sell_quantity\n",
    "  new_portfolio[PORTFOLIO_CASH] += get_option_value(\n",
    "    sell_quantity,\n",
    "    portfolio_row[PORTFOLIO_DATE],\n",
    "    portfolio_row[PORTFOLIO_OPTION_STRIKE],\n",
    "    portfolio_row[PORTFOLIO_OPTION_EXPIRATION],\n",
    "  )\n",
    "\n",
    "  return new_portfolio"
   ]
  },
  {
   "cell_type": "code",
   "execution_count": 167,
   "metadata": {},
   "outputs": [
    {
     "output_type": "execute_result",
     "data": {
      "text/plain": "date                      2000-01-03 00:00:00\ncash                                   3187.5\nstock_quantity                            100\noption_quantity                             0\noption_strike                            1100\noption_expiration_date    2000-02-19 00:00:00\ndtype: object"
     },
     "metadata": {},
     "execution_count": 167
    }
   ],
   "source": [
    "liquidate_option(ex_portfolio_row[PORTFOLIO_OPTION_QUANTITY], ex_portfolio_row)"
   ]
  },
  {
   "cell_type": "markdown",
   "metadata": {},
   "source": [
    "## Buying an order"
   ]
  },
  {
   "cell_type": "markdown",
   "metadata": {},
   "source": [
    "Now let's create the logic that will help us buy our SPX and option orders."
   ]
  },
  {
   "cell_type": "markdown",
   "metadata": {},
   "source": [
    "### SPX"
   ]
  },
  {
   "cell_type": "markdown",
   "metadata": {},
   "source": [
    "We want to buy a certain allocation of SPX, and return the cash that's left over"
   ]
  },
  {
   "cell_type": "code",
   "execution_count": 168,
   "metadata": {},
   "outputs": [],
   "source": [
    "def buy_stock_order(amt_to_buy, portfolio_row):\n",
    "  cash_available = portfolio_row[PORTFOLIO_CASH]\n",
    "  if amt_to_buy > cash_available:\n",
    "    raise SystemExit(\n",
    "      \"[stock] Can't buy ({}) more then the cash you have available. ({})\"\n",
    "        .format(amt_to_buy, cash_available)\n",
    "    )\n",
    "  \n",
    "  price_of_stock = get_stock_price(portfolio_row[PORTFOLIO_DATE])\n",
    "  quantity = amt_to_buy // price_of_stock\n",
    "  \n",
    "  new_portfolio_row = portfolio_row.copy()\n",
    "  new_portfolio_row[PORTFOLIO_CASH] -= (price_of_stock * quantity)\n",
    "  new_portfolio_row[PORTFOLIO_STOCK_QUANTITY] += quantity\n",
    "  \n",
    "  return new_portfolio_row"
   ]
  },
  {
   "cell_type": "code",
   "execution_count": 169,
   "metadata": {},
   "outputs": [
    {
     "output_type": "execute_result",
     "data": {
      "text/plain": "date                      2000-01-03 00:00:00\ncash                                   541.82\nstock_quantity                            101\noption_quantity                          1000\noption_strike                            1100\noption_expiration_date    2000-02-19 00:00:00\ndtype: object"
     },
     "metadata": {},
     "execution_count": 169
    }
   ],
   "source": [
    "buy_stock_order(ex_portfolio_row[PORTFOLIO_CASH], ex_portfolio_row)"
   ]
  },
  {
   "cell_type": "markdown",
   "metadata": {},
   "source": [
    "### Option"
   ]
  },
  {
   "cell_type": "markdown",
   "metadata": {},
   "source": [
    "Okay, now let's create a function to buy an option. We want this option to be within our \"out of the money range\", and within our \"expiration range\". If it's in that range, let's get the cheapest one"
   ]
  },
  {
   "cell_type": "markdown",
   "metadata": {},
   "source": [
    "First, let's create a helper method to buy an option within the \"out of the money range\":"
   ]
  },
  {
   "cell_type": "code",
   "execution_count": 170,
   "metadata": {},
   "outputs": [],
   "source": [
    "def options_for_otm_range(date, options, otm_range):\n",
    "  current_stock_price = get_stock_price(date)\n",
    "  min_strike = (1 - otm_range[1]) * current_stock_price\n",
    "  max_strike = (1 - otm_range[0]) * current_stock_price\n",
    "  \n",
    "  return options[\n",
    "    options[OPTION_PRICES_STRIKE_COL].between(min_strike, max_strike)\n",
    "  ]"
   ]
  },
  {
   "cell_type": "markdown",
   "metadata": {},
   "source": [
    "Next, let's put the code together to find the best option orders:"
   ]
  },
  {
   "cell_type": "code",
   "execution_count": 171,
   "metadata": {},
   "outputs": [],
   "source": [
    "def find_option_rows_to_buy(\n",
    "  date, \n",
    "  otm_range, \n",
    "  maturity_range):\n",
    "  options_on_this_date = OPTION_PRICES[OPTION_PRICES[OPTION_PRICES_DATE_COL] == date]\n",
    "  options_within_expiration_range = options_on_this_date[\n",
    "    options_on_this_date[OPTION_PRICES_MATURITY_COL]\n",
    "      .between(maturity_range[0], maturity_range[1])\n",
    "  ]\n",
    "  options_within_otm_range = options_for_otm_range(\n",
    "    date,\n",
    "    options_within_expiration_range,\n",
    "    otm_range\n",
    "  )\n",
    "  options_sorted_by_lowest_price_at_highest_strike = options_within_otm_range.sort_values(\n",
    "    by=[OPTION_PRICES_OFFER_COL, OPTION_PRICES_STRIKE_COL], \n",
    "    ascending=[True, False]\n",
    "  )\n",
    "  \n",
    "  return options_sorted_by_lowest_price_at_highest_strike"
   ]
  },
  {
   "cell_type": "markdown",
   "metadata": {},
   "source": [
    "Let's see how that looks"
   ]
  },
  {
   "cell_type": "code",
   "execution_count": 172,
   "metadata": {},
   "outputs": [
    {
     "output_type": "stream",
     "name": "stdout",
     "text": "date: 2000-01-03 00:00:00 stock price: 1458.1799925 30% otm: 1020.7259947499999 20% otm: 1166.543994\n"
    },
    {
     "output_type": "execute_result",
     "data": {
      "text/html": "<div>\n<style scoped>\n    .dataframe tbody tr th:only-of-type {\n        vertical-align: middle;\n    }\n\n    .dataframe tbody tr th {\n        vertical-align: top;\n    }\n\n    .dataframe thead th {\n        text-align: right;\n    }\n</style>\n<table border=\"1\" class=\"dataframe\">\n  <thead>\n    <tr style=\"text-align: right;\">\n      <th></th>\n      <th>secid</th>\n      <th>date</th>\n      <th>exdate</th>\n      <th>last_date</th>\n      <th>cp_flag</th>\n      <th>strike_price</th>\n      <th>best_bid</th>\n      <th>best_offer</th>\n      <th>volume</th>\n      <th>open_interest</th>\n      <th>...</th>\n      <th>vega</th>\n      <th>theta</th>\n      <th>optionid</th>\n      <th>forward_price</th>\n      <th>index_flag</th>\n      <th>issuer</th>\n      <th>exercise_style</th>\n      <th>maturity</th>\n      <th>spread</th>\n      <th>avg</th>\n    </tr>\n  </thead>\n  <tbody>\n    <tr>\n      <th>68</th>\n      <td>108105</td>\n      <td>2000-01-03</td>\n      <td>2000-03-18</td>\n      <td>20000103.0</td>\n      <td>P</td>\n      <td>1025.0</td>\n      <td>1.625</td>\n      <td>2.125</td>\n      <td>17</td>\n      <td>15695</td>\n      <td>...</td>\n      <td>29.38828</td>\n      <td>-28.18698</td>\n      <td>10697611</td>\n      <td>1470.521157</td>\n      <td>1</td>\n      <td>CBOE S&amp;P 500 INDEX</td>\n      <td>E</td>\n      <td>75</td>\n      <td>0.50</td>\n      <td>1.875</td>\n    </tr>\n    <tr>\n      <th>93</th>\n      <td>108105</td>\n      <td>2000-01-03</td>\n      <td>2000-03-18</td>\n      <td>20000103.0</td>\n      <td>P</td>\n      <td>1050.0</td>\n      <td>2.250</td>\n      <td>2.500</td>\n      <td>500</td>\n      <td>9765</td>\n      <td>...</td>\n      <td>35.66812</td>\n      <td>-33.38159</td>\n      <td>10816465</td>\n      <td>1470.521157</td>\n      <td>1</td>\n      <td>CBOE S&amp;P 500 INDEX</td>\n      <td>E</td>\n      <td>75</td>\n      <td>0.25</td>\n      <td>2.375</td>\n    </tr>\n    <tr>\n      <th>64</th>\n      <td>108105</td>\n      <td>2000-01-03</td>\n      <td>2000-03-18</td>\n      <td>19991221.0</td>\n      <td>P</td>\n      <td>1075.0</td>\n      <td>2.500</td>\n      <td>3.250</td>\n      <td>0</td>\n      <td>238</td>\n      <td>...</td>\n      <td>41.97782</td>\n      <td>-38.03137</td>\n      <td>10805755</td>\n      <td>1470.521157</td>\n      <td>1</td>\n      <td>CBOE S&amp;P 500 INDEX</td>\n      <td>E</td>\n      <td>75</td>\n      <td>0.75</td>\n      <td>2.875</td>\n    </tr>\n    <tr>\n      <th>9</th>\n      <td>108105</td>\n      <td>2000-01-03</td>\n      <td>2000-03-18</td>\n      <td>20000103.0</td>\n      <td>P</td>\n      <td>1100.0</td>\n      <td>3.125</td>\n      <td>3.875</td>\n      <td>10</td>\n      <td>6745</td>\n      <td>...</td>\n      <td>49.43353</td>\n      <td>-43.36735</td>\n      <td>10038124</td>\n      <td>1470.521157</td>\n      <td>1</td>\n      <td>CBOE S&amp;P 500 INDEX</td>\n      <td>E</td>\n      <td>75</td>\n      <td>0.75</td>\n      <td>3.500</td>\n    </tr>\n    <tr>\n      <th>182</th>\n      <td>108105</td>\n      <td>2000-01-03</td>\n      <td>2000-03-18</td>\n      <td>19991231.0</td>\n      <td>P</td>\n      <td>1125.0</td>\n      <td>3.875</td>\n      <td>4.625</td>\n      <td>0</td>\n      <td>3036</td>\n      <td>...</td>\n      <td>57.95005</td>\n      <td>-49.16476</td>\n      <td>11709606</td>\n      <td>1470.521157</td>\n      <td>1</td>\n      <td>CBOE S&amp;P 500 INDEX</td>\n      <td>E</td>\n      <td>75</td>\n      <td>0.75</td>\n      <td>4.250</td>\n    </tr>\n    <tr>\n      <th>132</th>\n      <td>108105</td>\n      <td>2000-01-03</td>\n      <td>2000-03-18</td>\n      <td>19991231.0</td>\n      <td>P</td>\n      <td>1150.0</td>\n      <td>4.750</td>\n      <td>5.500</td>\n      <td>0</td>\n      <td>12629</td>\n      <td>...</td>\n      <td>67.45924</td>\n      <td>-55.21112</td>\n      <td>11347246</td>\n      <td>1470.521157</td>\n      <td>1</td>\n      <td>CBOE S&amp;P 500 INDEX</td>\n      <td>E</td>\n      <td>75</td>\n      <td>0.75</td>\n      <td>5.125</td>\n    </tr>\n  </tbody>\n</table>\n<p>6 rows × 23 columns</p>\n</div>",
      "text/plain": "      secid       date     exdate   last_date cp_flag  strike_price  best_bid  \\\n68   108105 2000-01-03 2000-03-18  20000103.0       P        1025.0     1.625   \n93   108105 2000-01-03 2000-03-18  20000103.0       P        1050.0     2.250   \n64   108105 2000-01-03 2000-03-18  19991221.0       P        1075.0     2.500   \n9    108105 2000-01-03 2000-03-18  20000103.0       P        1100.0     3.125   \n182  108105 2000-01-03 2000-03-18  19991231.0       P        1125.0     3.875   \n132  108105 2000-01-03 2000-03-18  19991231.0       P        1150.0     4.750   \n\n     best_offer  volume  open_interest  ...      vega     theta  optionid  \\\n68        2.125      17          15695  ...  29.38828 -28.18698  10697611   \n93        2.500     500           9765  ...  35.66812 -33.38159  10816465   \n64        3.250       0            238  ...  41.97782 -38.03137  10805755   \n9         3.875      10           6745  ...  49.43353 -43.36735  10038124   \n182       4.625       0           3036  ...  57.95005 -49.16476  11709606   \n132       5.500       0          12629  ...  67.45924 -55.21112  11347246   \n\n     forward_price  index_flag              issuer  exercise_style  maturity  \\\n68     1470.521157           1  CBOE S&P 500 INDEX               E        75   \n93     1470.521157           1  CBOE S&P 500 INDEX               E        75   \n64     1470.521157           1  CBOE S&P 500 INDEX               E        75   \n9      1470.521157           1  CBOE S&P 500 INDEX               E        75   \n182    1470.521157           1  CBOE S&P 500 INDEX               E        75   \n132    1470.521157           1  CBOE S&P 500 INDEX               E        75   \n\n    spread    avg  \n68    0.50  1.875  \n93    0.25  2.375  \n64    0.75  2.875  \n9     0.75  3.500  \n182   0.75  4.250  \n132   0.75  5.125  \n\n[6 rows x 23 columns]"
     },
     "metadata": {},
     "execution_count": 172
    }
   ],
   "source": [
    "date = datetime(2000, 1, 3)\n",
    "stock_price = get_stock_price(date)\n",
    "print('date:', date, 'stock price:', stock_price, '30% otm:', stock_price * 0.7, '20% otm:', stock_price * 0.8)\n",
    "find_option_rows_to_buy(\n",
    "    date,\n",
    "    (0.2, 0.3),\n",
    "    (60, 100)\n",
    ").sort_values(by=[OPTION_PRICES_EXPIRATION_COL])"
   ]
  },
  {
   "cell_type": "markdown",
   "metadata": {},
   "source": [
    "Now, let's put it together and buy the option:"
   ]
  },
  {
   "cell_type": "code",
   "execution_count": 173,
   "metadata": {},
   "outputs": [],
   "source": [
    "def find_best_option_row_to_buy(date, otm_range, maturity_range):\n",
    "  best_option_rows = find_option_rows_to_buy(date, otm_range, maturity_range)\n",
    "  if best_option_rows.empty:\n",
    "    raise SystemExit(\"wasn't able to find an option for {}\".format(date))\n",
    "  return best_option_rows.iloc[0]\n",
    "\n",
    "def get_option_buy_price(option_row):\n",
    "  return option_row[OPTION_PRICES_OFFER_COL]\n",
    "\n",
    "def buy_option_order(\n",
    "  amt_to_buy,\n",
    "  portfolio_row, \n",
    "  option_row):\n",
    "  cash_available = portfolio_row[PORTFOLIO_CASH]\n",
    "  if amt_to_buy > cash_available:\n",
    "    raise SystemExit(\n",
    "      \"[stock] Can't buy ({}) more then the cash you have available. ({})\"\n",
    "        .format(amt_to_buy, cash_available)\n",
    "    )\n",
    "  \n",
    "\n",
    "  strike = option_row[OPTION_PRICES_STRIKE_COL]\n",
    "  expiration = option_row[OPTION_PRICES_EXPIRATION_COL]\n",
    "  price = get_option_buy_price(option_row)\n",
    "  quantity = amt_to_buy // price\n",
    "  \n",
    "  new_portfolio_row = portfolio_row.copy()\n",
    "  new_portfolio_row[PORTFOLIO_CASH] -= (quantity * price)\n",
    "  new_portfolio_row[PORTFOLIO_OPTION_QUANTITY] += quantity \n",
    "  new_portfolio_row[PORTFOLIO_OPTION_STRIKE] = strike\n",
    "  new_portfolio_row[PORTFOLIO_OPTION_EXPIRATION] = expiration\n",
    "\n",
    "  return new_portfolio_row"
   ]
  },
  {
   "cell_type": "code",
   "execution_count": 174,
   "metadata": {},
   "outputs": [
    {
     "output_type": "execute_result",
     "data": {
      "text/plain": "date                      2000-01-03 00:00:00\ncash                                     1001\nstock_quantity                            100\noption_quantity                          1592\noption_strike                            1100\noption_expiration_date    2000-02-19 00:00:00\ndtype: object"
     },
     "metadata": {},
     "execution_count": 174
    }
   ],
   "source": [
    "date = ex_portfolio_row[PORTFOLIO_DATE]\n",
    "ex_new_portfolio_row = buy_option_order(\n",
    "    1000,\n",
    "    ex_portfolio_row,\n",
    "    find_best_option_row_to_buy(date, (0.2, 0.3), (40, 100))\n",
    ")\n",
    "ex_new_portfolio_row"
   ]
  },
  {
   "cell_type": "markdown",
   "metadata": {},
   "source": [
    "## Trading"
   ]
  },
  {
   "cell_type": "markdown",
   "metadata": {},
   "source": [
    "To put it all together, let's write out trading algorithm. Effectively: \n",
    "\n",
    "Every trading day, \n",
    "- 1) We will first sell everything that we have over our allocation \n",
    "- 2) Then we'll take what we have left, and buy at our allocation\n",
    "- 3) Finally, we'll merge the portfolios "
   ]
  },
  {
   "cell_type": "markdown",
   "metadata": {},
   "source": [
    "First, let's create a function, that given our portfolio, will give us the amount that we are \"off\" from the target"
   ]
  },
  {
   "cell_type": "code",
   "execution_count": 175,
   "metadata": {},
   "outputs": [],
   "source": [
    "DELTA_STOCK = 'stock'\n",
    "DELTA_OPTION = 'option'\n",
    "\n",
    "def total_stock_value(portfolio_row):\n",
    "  return get_stock_value(portfolio_row[PORTFOLIO_STOCK_QUANTITY], portfolio_row[PORTFOLIO_DATE])\n",
    "\n",
    "def total_option_value(portfolio_row):\n",
    "  return get_option_value(\n",
    "    portfolio_row[PORTFOLIO_OPTION_QUANTITY],\n",
    "    portfolio_row[PORTFOLIO_DATE],\n",
    "    portfolio_row[PORTFOLIO_OPTION_STRIKE],\n",
    "    portfolio_row[PORTFOLIO_OPTION_EXPIRATION],\n",
    "  )\n",
    "\n",
    "def total_portfolio_value(portfolio_row):\n",
    "  return portfolio_row[PORTFOLIO_CASH] + total_stock_value(portfolio_row) + total_option_value(portfolio_row)\n",
    "\n",
    "def compute_deltas(portfolio_row, goal):\n",
    "  current_total = total_portfolio_value(portfolio_row)\n",
    "  current_stock = total_stock_value(portfolio_row)\n",
    "  current_option = total_option_value(portfolio_row)\n",
    "\n",
    "  goal_stock = current_total * goal[GOAL_STOCK_ALLOC]\n",
    "  goal_option = current_total - goal_stock\n",
    "\n",
    "  return {\n",
    "    DELTA_STOCK: current_stock - goal_stock,\n",
    "    DELTA_OPTION: current_option - goal_option\n",
    "  }"
   ]
  },
  {
   "cell_type": "code",
   "execution_count": 176,
   "metadata": {},
   "outputs": [
    {
     "output_type": "execute_result",
     "data": {
      "text/plain": "{'stock': -2442.472503750003, 'option': 442.47250375000294}"
     },
     "metadata": {},
     "execution_count": 176
    }
   ],
   "source": [
    "compute_deltas(\n",
    "  ex_portfolio_row, \n",
    "  build_goal(stock_alloc=0.995, otm_range=(0.2, 0.3), maturity_range=(60, 220))\n",
    ")"
   ]
  },
  {
   "cell_type": "markdown",
   "metadata": {},
   "source": [
    "Now, let's write a function, which will sell all it can over our allocation"
   ]
  },
  {
   "cell_type": "code",
   "execution_count": 177,
   "metadata": {},
   "outputs": [],
   "source": [
    "def is_same_option_contract(portfolio_row, option_row):\n",
    "  return (\n",
    "    (portfolio_row[PORTFOLIO_DATE] == option_row[OPTION_PRICES_DATE_COL]) and\n",
    "    (portfolio_row[PORTFOLIO_OPTION_STRIKE] == option_row[OPTION_PRICES_STRIKE_COL]) and\n",
    "    (portfolio_row[PORTFOLIO_OPTION_EXPIRATION] == option_row[OPTION_PRICES_EXPIRATION_COL])\n",
    "  )\n",
    "\n",
    "def sell_over_allocation(portfolio_row, goal, option_row):\n",
    "  date = portfolio_row[PORTFOLIO_DATE]\n",
    "  deltas = compute_deltas(portfolio_row, goal)  \n",
    "  delta_stock = deltas[DELTA_STOCK]\n",
    "  delta_option = deltas[DELTA_OPTION]\n",
    "\n",
    "  if delta_stock > 0:\n",
    "    portfolio_row = liquidate_stock(max(delta_stock // get_stock_price(date), 1), portfolio_row)\n",
    "  \n",
    "  if is_same_option_contract(portfolio_row, option_row):\n",
    "    if delta_option > 0:\n",
    "      portfolio_row = liquidate_option(max(delta_stock // get_stock_price(date), 1), portfolio_row)\n",
    "  else:\n",
    "     portfolio_row = liquidate_option(portfolio_row[PORTFOLIO_OPTION_QUANTITY], portfolio_row)\n",
    "\n",
    "  return portfolio_row"
   ]
  },
  {
   "cell_type": "code",
   "execution_count": 178,
   "metadata": {},
   "outputs": [
    {
     "output_type": "stream",
     "name": "stdout",
     "text": "date                      2000-01-03 00:00:00\ncash                                     2000\nstock_quantity                            100\noption_quantity                          1000\noption_strike                            1100\noption_expiration_date    2000-02-19 00:00:00\ndtype: object\n=== this will sell stock ===\ndate                      2000-01-03 00:00:00\ncash                                  13665.4\nstock_quantity                             92\noption_quantity                          1000\noption_strike                            1100\noption_expiration_date    2000-02-19 00:00:00\ndtype: object\n=== this will sell a part of the option ===\ndate                      2000-01-03 00:00:00\ncash                                  2001.19\nstock_quantity                            100\noption_quantity                           999\noption_strike                            1100\noption_expiration_date    2000-02-19 00:00:00\ndtype: object\n=== this will liquidate the whole option ===\ndate                      2000-01-03 00:00:00\ncash                                   3187.5\nstock_quantity                            100\noption_quantity                             0\noption_strike                            1100\noption_expiration_date    2000-02-19 00:00:00\ndtype: object\n"
    }
   ],
   "source": [
    "date = ex_portfolio_row[PORTFOLIO_DATE]\n",
    "print(ex_portfolio_row)\n",
    "print(\"=== this will sell stock ===\")\n",
    "print(\n",
    "  sell_over_allocation(\n",
    "    ex_portfolio_row,\n",
    "    build_goal(0.90, (0.2, 0.3), (40, 100)),\n",
    "    find_best_option_row_to_buy(date, (0.2, 0.3), (40, 200))\n",
    "  )\n",
    ")\n",
    "print(\"=== this will sell a part of the option ===\")\n",
    "print(\n",
    "  sell_over_allocation(\n",
    "    ex_portfolio_row,\n",
    "    build_goal(0.9999, (0.2, 0.3), (40, 100)),\n",
    "    find_best_option_row_to_buy(date, (0.2, 0.3), (40, 200))\n",
    "  )\n",
    ")\n",
    "print(\"=== this will liquidate the whole option ===\")\n",
    "print(\n",
    "  sell_over_allocation(\n",
    "    ex_portfolio_row,\n",
    "    build_goal(0.9999, (0.2, 0.3), (40, 100)),\n",
    "    find_best_option_row_to_buy(datetime(2000, 2, 24), (0.2, 0.3), (40, 200))\n",
    "  )\n",
    ")"
   ]
  },
  {
   "cell_type": "markdown",
   "metadata": {},
   "source": [
    "Next, let's create a function to buy up at our allocation"
   ]
  },
  {
   "cell_type": "code",
   "execution_count": 179,
   "metadata": {},
   "outputs": [],
   "source": [
    "def buy_at_allocation(portfolio_row, goal, new_option_row):\n",
    "  date = portfolio_row[PORTFOLIO_DATE]\n",
    "  deltas = compute_deltas(portfolio_row, goal)\n",
    "  delta_stock = deltas[DELTA_STOCK]\n",
    "  delta_option = deltas[DELTA_OPTION]\n",
    "  if delta_stock < 0:\n",
    "    portfolio_row = buy_stock_order(\n",
    "      min(delta_stock * -1, portfolio_row[PORTFOLIO_CASH]), \n",
    "      portfolio_row,\n",
    "    )\n",
    "  \n",
    "  if delta_option < 0:\n",
    "    portfolio_row = buy_option_order(\n",
    "      min(delta_option * -1, portfolio_row[PORTFOLIO_CASH]), \n",
    "      portfolio_row,\n",
    "      new_option_row\n",
    "    )\n",
    "  \n",
    "  return portfolio_row"
   ]
  },
  {
   "cell_type": "code",
   "execution_count": 180,
   "metadata": {},
   "outputs": [
    {
     "output_type": "stream",
     "name": "stdout",
     "text": "date                      2000-01-03 00:00:00\ncash                                     2000\nstock_quantity                            100\noption_quantity                          1000\noption_strike                            1100\noption_expiration_date    2000-02-19 00:00:00\ndtype: object\n== this will buy both stock and options\n"
    },
    {
     "output_type": "execute_result",
     "data": {
      "text/plain": "date                      2000-01-03 00:00:00\ncash                                  239.758\nstock_quantity                            101\noption_quantity                          1179\noption_strike                            1100\noption_expiration_date    2000-02-19 00:00:00\ndtype: object"
     },
     "metadata": {},
     "execution_count": 180
    }
   ],
   "source": [
    "date = ex_portfolio_row[PORTFOLIO_DATE]\n",
    "print(ex_portfolio_row)\n",
    "print(\"== this will buy both stock and options\")\n",
    "buy_at_allocation(\n",
    "  ex_portfolio_row,\n",
    "  build_goal(0.99, (0.2, 0.3), (40, 100)), \n",
    "  find_best_option_row_to_buy(date, (0.2, 0.3), (40, 100))\n",
    ")"
   ]
  },
  {
   "cell_type": "markdown",
   "metadata": {},
   "source": [
    "Finally, let's put it all together and run for one trading date"
   ]
  },
  {
   "cell_type": "markdown",
   "metadata": {},
   "source": [
    "Next, let's create a function that gets monthly trading dates for us"
   ]
  },
  {
   "cell_type": "code",
   "metadata": {},
   "source": [
    "def trade_for_date(portfolio_row, goal):\n",
    "  date = portfolio_row[PORTFOLIO_DATE]\n",
    "  best_option_row = find_best_option_row_to_buy(date, goal[GOAL_OTM_RANGE], goal[GOAL_MATURITY_RANGE])\n",
    "  new_portfolio_row = buy_at_allocation(\n",
    "    sell_over_allocation(portfolio_row, goal, best_option_row),\n",
    "    goal,\n",
    "    best_option_row)\n",
    "  \n",
    "  return new_portfolio_row"
   ],
   "execution_count": 181,
   "outputs": []
  },
  {
   "cell_type": "markdown",
   "metadata": {},
   "source": [
    "## Simulation"
   ]
  },
  {
   "cell_type": "markdown",
   "metadata": {},
   "source": [
    "First, let's create a function to get trading dates. This will get a list trading dates starting at the beginning of the business month"
   ]
  },
  {
   "cell_type": "code",
   "execution_count": 182,
   "metadata": {},
   "outputs": [],
   "source": [
    "def create_seed_portfolio_row(date, goal, cash):\n",
    "  seed_option_row = find_best_option_row_to_buy(date, goal[GOAL_OTM_RANGE], goal[GOAL_MATURITY_RANGE]) \n",
    "  return build_portfolio_row(\n",
    "    date=date,\n",
    "    cash=cash,\n",
    "    stock_quantity=0,\n",
    "    option_quantity=0,\n",
    "    option_strike=seed_option_row[OPTION_PRICES_STRIKE_COL],\n",
    "    option_expiration=seed_option_row[OPTION_PRICES_EXPIRATION_COL]\n",
    "  )\n",
    "\n",
    "def simulate(goal, cash):\n",
    "  portfolio_log = build_portfolio_log()\n",
    "  trading_dates = get_trading_dates()\n",
    "  portfolio_row = create_seed_portfolio_row(trading_dates[0], goal, cash)\n",
    "  for date in trading_dates:\n",
    "    portfolio_row = portfolio_row.copy()\n",
    "    portfolio_row[PORTFOLIO_DATE] = date\n",
    "    portfolio_row = trade_for_date(portfolio_row, goal)\n",
    "    portfolio_log.loc[date] = portfolio_row\n",
    "  \n",
    "  return portfolio_log"
   ]
  },
  {
   "cell_type": "code",
   "execution_count": 183,
   "metadata": {},
   "outputs": [],
   "source": [
    "def get_trading_dates():\n",
    "    start_date = max(\n",
    "        STOCK_PRICES.iloc[0][STOCK_PRICES_DATE_COL],\n",
    "        OPTION_PRICES.iloc[0][OPTION_PRICES_DATE_COL]\n",
    "    )\n",
    "    end_date = min(\n",
    "        STOCK_PRICES.iloc[-1][STOCK_PRICES_DATE_COL],\n",
    "        OPTION_PRICES.iloc[-1][OPTION_PRICES_DATE_COL]\n",
    "    )\n",
    "    return pd.date_range(start=start_date, end=end_date, freq='BMS')\n",
    ""
   ]
  },
  {
   "cell_type": "code",
   "execution_count": 184,
   "metadata": {},
   "outputs": [
    {
     "output_type": "execute_result",
     "data": {
      "text/plain": "DatetimeIndex(['2000-01-03', '2000-02-01', '2000-03-01', '2000-04-03',\n               '2000-05-01', '2000-06-01', '2000-07-03', '2000-08-01',\n               '2000-09-01', '2000-10-02',\n               ...\n               '2018-09-03', '2018-10-01', '2018-11-01', '2018-12-03',\n               '2019-01-01', '2019-02-01', '2019-03-01', '2019-04-01',\n               '2019-05-01', '2019-06-03'],\n              dtype='datetime64[ns]', length=234, freq='BMS')"
     },
     "metadata": {},
     "execution_count": 184
    }
   ],
   "source": [
    "get_trading_dates()"
   ]
  },
  {
   "cell_type": "markdown",
   "metadata": {},
   "source": [
    "Now, let's write code to run the strategy"
   ]
  },
  {
   "cell_type": "code",
   "execution_count": 185,
   "metadata": {
    "tags": [
     "outputPrepend",
     "outputPrepend",
     "outputPrepend",
     "outputPrepend",
     "outputPrepend",
     "outputPrepend",
     "outputPrepend",
     "outputPrepend",
     "outputPrepend",
     "outputPrepend",
     "outputPrepend",
     "outputPrepend",
     "outputPrepend",
     "outputPrepend",
     "outputPrepend",
     "outputPrepend",
     "outputPrepend",
     "outputPrepend",
     "outputPrepend",
     "outputPrepend",
     "outputPrepend",
     "outputPrepend",
     "outputPrepend",
     "outputPrepend",
     "outputPrepend",
     "outputPrepend",
     "outputPrepend",
     "outputPrepend",
     "outputPrepend",
     "outputPrepend",
     "outputPrepend",
     "outputPrepend",
     "outputPrepend",
     "outputPrepend",
     "outputPrepend",
     "outputPrepend",
     "outputPrepend",
     "outputPrepend",
     "outputPrepend",
     "outputPrepend",
     "outputPrepend",
     "outputPrepend",
     "outputPrepend",
     "outputPrepend",
     "outputPrepend",
     "outputPrepend",
     "outputPrepend",
     "outputPrepend",
     "outputPrepend",
     "outputPrepend",
     "outputPrepend",
     "outputPrepend",
     "outputPrepend",
     "outputPrepend",
     "outputPrepend",
     "outputPrepend",
     "outputPrepend",
     "outputPrepend",
     "outputPrepend",
     "outputPrepend",
     "outputPrepend",
     "outputPrepend",
     "outputPrepend",
     "outputPrepend",
     "outputPrepend",
     "outputPrepend",
     "outputPrepend",
     "outputPrepend",
     "outputPrepend",
     "outputPrepend",
     "outputPrepend",
     "outputPrepend",
     "outputPrepend",
     "outputPrepend",
     "outputPrepend",
     "outputPrepend",
     "outputPrepend",
     "outputPrepend",
     "outputPrepend",
     "outputPrepend",
     "outputPrepend",
     "outputPrepend",
     "outputPrepend",
     "outputPrepend",
     "outputPrepend",
     "outputPrepend",
     "outputPrepend",
     "outputPrepend",
     "outputPrepend",
     "outputPrepend",
     "outputPrepend",
     "outputPrepend",
     "outputPrepend",
     "outputPrepend",
     "outputPrepend",
     "outputPrepend",
     "outputPrepend",
     "outputPrepend",
     "outputPrepend",
     "outputPrepend",
     "outputPrepend",
     "outputPrepend",
     "outputPrepend",
     "outputPrepend",
     "outputPrepend",
     "outputPrepend",
     "outputPrepend",
     "outputPrepend",
     "outputPrepend",
     "outputPrepend",
     "outputPrepend",
     "outputPrepend",
     "outputPrepend",
     "outputPrepend",
     "outputPrepend",
     "outputPrepend",
     "outputPrepend",
     "outputPrepend",
     "outputPrepend",
     "outputPrepend",
     "outputPrepend",
     "outputPrepend",
     "outputPrepend",
     "outputPrepend",
     "outputPrepend",
     "outputPrepend",
     "outputPrepend",
     "outputPrepend",
     "outputPrepend",
     "outputPrepend",
     "outputPrepend",
     "outputPrepend",
     "outputPrepend",
     "outputPrepend",
     "outputPrepend",
     "outputPrepend",
     "outputPrepend",
     "outputPrepend",
     "outputPrepend",
     "outputPrepend",
     "outputPrepend",
     "outputPrepend",
     "outputPrepend",
     "outputPrepend",
     "outputPrepend",
     "outputPrepend",
     "outputPrepend",
     "outputPrepend",
     "outputPrepend",
     "outputPrepend",
     "outputPrepend",
     "outputPrepend",
     "outputPrepend",
     "outputPrepend",
     "outputPrepend",
     "outputPrepend",
     "outputPrepend",
     "outputPrepend",
     "outputPrepend",
     "outputPrepend",
     "outputPrepend",
     "outputPrepend",
     "outputPrepend",
     "outputPrepend",
     "outputPrepend",
     "outputPrepend",
     "outputPrepend",
     "outputPrepend",
     "outputPrepend",
     "outputPrepend",
     "outputPrepend",
     "outputPrepend",
     "outputPrepend",
     "outputPrepend",
     "outputPrepend",
     "outputPrepend",
     "outputPrepend",
     "outputPrepend",
     "outputPrepend",
     "outputPrepend",
     "outputPrepend",
     "outputPrepend",
     "outputPrepend",
     "outputPrepend",
     "outputPrepend",
     "outputPrepend",
     "outputPrepend",
     "outputPrepend",
     "outputPrepend",
     "outputPrepend",
     "outputPrepend",
     "outputPrepend",
     "outputPrepend",
     "outputPrepend"
    ]
   },
   "outputs": [
    {
     "output_type": "error",
     "ename": "SystemExit",
     "evalue": "Uh oh, expected to find one stock price date = 2001-01-01 00:00:00",
     "traceback": [
      "An exception has occurred, use %tb to see the full traceback.\n",
      "\u001b[0;31mSystemExit\u001b[0m\u001b[0;31m:\u001b[0m Uh oh, expected to find one stock price date = 2001-01-01 00:00:00\n"
     ]
    }
   ],
   "source": [
    "simulated_portfolio_log = simulate(\n",
    "  build_goal(stock_alloc=0.995, otm_range=(0.1, 0.3), maturity_range=(60, 260)),\n",
    "  1000000\n",
    ")\n",
    "simulated_portfolio_log"
   ]
  },
  {
   "cell_type": "code",
   "execution_count": 186,
   "metadata": {},
   "outputs": [],
   "source": [
    "def find_option_rows_to_buy(\n",
    "  date, \n",
    "  otm_range, \n",
    "  maturity_range):\n",
    "  options_on_this_date = OPTION_PRICES[OPTION_PRICES[OPTION_PRICES_DATE_COL] == date]\n",
    "  options_within_expiration_range = options_on_this_date[\n",
    "    options_on_this_date[OPTION_PRICES_MATURITY_COL]\n",
    "      .between(maturity_range[0], maturity_range[1])\n",
    "  ]\n",
    "  options_within_otm_range = options_for_otm_range(\n",
    "    date,\n",
    "    options_within_expiration_range,\n",
    "    otm_range\n",
    "  )\n",
    "  options_sorted_by_lowest_price_at_highest_strike = options_within_otm_range.sort_values(\n",
    "    by=[OPTION_PRICES_OFFER_COL, OPTION_PRICES_STRIKE_COL], \n",
    "    ascending=[True, False]\n",
    "  )\n",
    "  \n",
    "  return options_sorted_by_lowest_price_at_highest_strike\n",
    "\n",
    ""
   ]
  },
  {
   "cell_type": "markdown",
   "metadata": {},
   "source": [
    "Let's write some code to enhance the table, to see how things look"
   ]
  },
  {
   "cell_type": "code",
   "execution_count": 187,
   "metadata": {},
   "outputs": [],
   "source": [
    "ENHANCED_PORTFOLIO_TOTAL_VALUE = 'total value'\n",
    "ENHANCED_PORTFOLIO_STOCK_VALUE = 'stock value'\n",
    "ENHANCED_PORTFOLIO_STOCK_PERCENT = '% stock'\n",
    "ENHANCED_PORTFOLIO_OPTION_VALUE = 'option value'\n",
    "ENHANCED_PORTFOLIO_OPTION_PERCENT = '% option'\n",
    "ENHANCED_PORTFOLIO_CASH_PERCENT = '% cash'\n",
    "\n",
    "def enhance_portfolio_log(portfolio_log):\n",
    "  def enhance(portfolio_row):\n",
    "    date = portfolio_row[PORTFOLIO_DATE]\n",
    "    total = total_portfolio_value(portfolio_row)\n",
    "    stock_value = total_stock_value(portfolio_row)\n",
    "    option_value = total_option_value(portfolio_row)\n",
    "    cash_value = portfolio_row[PORTFOLIO_CASH]\n",
    "    \n",
    "    return portfolio_row.append(\n",
    "      pd.Series({\n",
    "        ENHANCED_PORTFOLIO_TOTAL_VALUE: total,\n",
    "        ENHANCED_PORTFOLIO_STOCK_VALUE: stock_value,\n",
    "        ENHANCED_PORTFOLIO_OPTION_VALUE: option_value,\n",
    "        ENHANCED_PORTFOLIO_STOCK_PERCENT: (stock_value / total) * 100,\n",
    "        ENHANCED_PORTFOLIO_OPTION_PERCENT: (option_value / total) * 100,\n",
    "        ENHANCED_PORTFOLIO_CASH_PERCENT: (cash_value / total) * 100,\n",
    "      })\n",
    "    )\n",
    "\n",
    "  return portfolio_log.apply(enhance, axis=1)"
   ]
  },
  {
   "cell_type": "markdown",
   "metadata": {},
   "source": [
    "Let's see how this looks"
   ]
  },
  {
   "cell_type": "code",
   "execution_count": 188,
   "metadata": {},
   "outputs": [
    {
     "output_type": "error",
     "ename": "NameError",
     "evalue": "name 'simulated_portfolio_log' is not defined",
     "traceback": [
      "\u001b[0;31m---------------------------------------------------------------------------\u001b[0m",
      "\u001b[0;31mNameError\u001b[0m                                 Traceback (most recent call last)",
      "\u001b[0;32m<ipython-input-188-23076e77207f>\u001b[0m in \u001b[0;36m<module>\u001b[0;34m\u001b[0m\n\u001b[0;32m----> 1\u001b[0;31m \u001b[0menhanced_portfolio_log\u001b[0m \u001b[0;34m=\u001b[0m \u001b[0menhance_portfolio_log\u001b[0m\u001b[0;34m(\u001b[0m\u001b[0msimulated_portfolio_log\u001b[0m\u001b[0;34m)\u001b[0m\u001b[0;34m\u001b[0m\u001b[0;34m\u001b[0m\u001b[0m\n\u001b[0m\u001b[1;32m      2\u001b[0m \u001b[0menhanced_portfolio_log\u001b[0m\u001b[0;34m\u001b[0m\u001b[0;34m\u001b[0m\u001b[0m\n",
      "\u001b[0;31mNameError\u001b[0m: name 'simulated_portfolio_log' is not defined"
     ]
    }
   ],
   "source": [
    "enhanced_portfolio_log = enhance_portfolio_log(simulated_portfolio_log)\n",
    "enhanced_portfolio_log"
   ]
  },
  {
   "cell_type": "markdown",
   "metadata": {},
   "source": [
    " And let's write some code to plot how we do."
   ]
  },
  {
   "cell_type": "code",
   "execution_count": 189,
   "metadata": {},
   "outputs": [],
   "source": [
    "def simulate_and_compare(goal, cash):\n",
    "  enhanced_portfolio_log = enhance_portfolio_log(simulate(goal, cash))\n",
    "  stock_portfolio_row = buy_stock_order(\n",
    "    cash,\n",
    "    create_seed_portfolio_row(\n",
    "      enhance_portfolio_log.iloc[0][PORTFOLIO_DATE], \n",
    "      build_goal(stock_alloc=1, otm_range=goal[GOAL_OTM_RANGE], maturity_range=goal[GOAL_MATURITY_RANGE]),\n",
    "      cash\n",
    "    )\n",
    "  )\n",
    "  def format_for_plot(portfolio_row):\n",
    "      date = portfolio_row[PORTFOLIO_DATE]\n",
    "      stock_portfolio_row[PORTFOLIO_DATE] = date\n",
    "      return pd.Series({\n",
    "          'benchmark_stock': total_stock_value(stock_portfolio_row) + stock_portfolio_row[PORTFOLIO_CASH],\n",
    "          'portfolio_total': portfolio_row[ENHANCED_PORTFOLIO_TOTAL_VALUE],\n",
    "          'portfolio_stock': portfolio_row[ENHANCED_PORTFOLIO_STOCK_VALUE],\n",
    "          'portfolio_options': portfolio_row[ENHANCED_PORTFOLIO_OPTION_VALUE],\n",
    "          'portfolio_cash': portfolio_row[PORTFOLIO_CASH]\n",
    "      })\n",
    "  \n",
    "  plot_df = enhanced_portfolio_log.apply(format_for_plot, axis=1)\n",
    "  plot_df.plot()\n",
    "  plt.show()"
   ]
  },
  {
   "cell_type": "markdown",
   "metadata": {},
   "source": [
    "## Exploration"
   ]
  },
  {
   "cell_type": "code",
   "execution_count": 190,
   "metadata": {
    "tags": [
     "outputPrepend",
     "outputPrepend",
     "outputPrepend"
    ]
   },
   "outputs": [
    {
     "output_type": "error",
     "ename": "SystemExit",
     "evalue": "Uh oh, expected to find one stock price date = 2001-01-01 00:00:00",
     "traceback": [
      "An exception has occurred, use %tb to see the full traceback.\n",
      "\u001b[0;31mSystemExit\u001b[0m\u001b[0;31m:\u001b[0m Uh oh, expected to find one stock price date = 2001-01-01 00:00:00\n"
     ]
    }
   ],
   "source": [
    "simulate_and_compare(\n",
    "    build_goal(stock_alloc=0.995, otm_range=(0.2, 0.3), maturity_range=(60, 220)),\n",
    "    1000000\n",
    ")"
   ]
  },
  {
   "cell_type": "code",
   "execution_count": 191,
   "metadata": {},
   "outputs": [
    {
     "output_type": "error",
     "ename": "SystemExit",
     "evalue": "Uh oh, expected to find one stock price date = 2001-01-01 00:00:00",
     "traceback": [
      "An exception has occurred, use %tb to see the full traceback.\n",
      "\u001b[0;31mSystemExit\u001b[0m\u001b[0;31m:\u001b[0m Uh oh, expected to find one stock price date = 2001-01-01 00:00:00\n"
     ]
    }
   ],
   "source": [
    "simulate_and_compare(\n",
    "    build_goal(stock_alloc=0.995, otm_range=(0.2, 0.5), maturity_range=(60, 220)),\n",
    "    1000000\n",
    ")"
   ]
  },
  {
   "cell_type": "markdown",
   "metadata": {},
   "source": [
    "# Dealing with the spread\n",
    "\n"
   ]
  },
  {
   "cell_type": "markdown",
   "metadata": {},
   "source": [
    "One thing that's tough about these portfolios, is that the spreads are often _very_ large. One thing we cna try, is to see if somehow we could sell and buy at a better price, how it could look:\n"
   ]
  },
  {
   "cell_type": "code",
   "execution_count": 192,
   "metadata": {},
   "outputs": [],
   "source": [
    "def get_option_buy_price(option_row):\n",
    "  return option_row[OPTION_PRICES_AVG_COL]\n",
    "\n",
    "def get_option_sell_price(option_row):\n",
    "  return option_row[OPTION_PRICES_AVG_COL]"
   ]
  },
  {
   "cell_type": "code",
   "execution_count": 193,
   "metadata": {},
   "outputs": [
    {
     "output_type": "error",
     "ename": "SystemExit",
     "evalue": "Uh oh, expected to find one stock price date = 2001-01-01 00:00:00",
     "traceback": [
      "An exception has occurred, use %tb to see the full traceback.\n",
      "\u001b[0;31mSystemExit\u001b[0m\u001b[0;31m:\u001b[0m Uh oh, expected to find one stock price date = 2001-01-01 00:00:00\n"
     ]
    }
   ],
   "source": [
    "simulate_and_compare(\n",
    "    build_goal(stock_alloc=0.995, otm_range=(0.2, 0.3), maturity_range=(60, 220)),\n",
    "    1000000\n",
    ")"
   ]
  },
  {
   "cell_type": "markdown",
   "metadata": {},
   "source": [
    "This ends up looking much better. One thing we can also try -- What if we considered the Q ratio?"
   ]
  },
  {
   "cell_type": "markdown",
   "metadata": {},
   "source": [
    "## Q Ratio"
   ]
  },
  {
   "cell_type": "code",
   "execution_count": 194,
   "metadata": {},
   "outputs": [],
   "source": [
    "Q_RARTIO_FILE_PATH = 'tobins_q.csv'\n",
    "Q_RATIO_DATE_COL = 'date'\n",
    "Q_RATIO_VALUE_COL = 'value'\n",
    "\n",
    "def load_q_ratios():\n",
    "  q_ratios = pd.read_csv(Q_RARTIO_FILE_PATH)\n",
    "  q_ratios[Q_RATIO_DATE_COL] = pd.to_datetime(q_ratios[Q_RATIO_DATE_COL])\n",
    "  q_ratios = q_ratios.set_index(Q_RATIO_DATE_COL, drop=False)\n",
    "  \n",
    "  return q_ratios\n",
    ""
   ]
  },
  {
   "cell_type": "code",
   "execution_count": 195,
   "metadata": {},
   "outputs": [
    {
     "output_type": "display_data",
     "data": {
      "image/png": "[encoded data removed]",
      "text/plain": "<Figure size 432x288 with 1 Axes>",
      "image/svg+xml": "<?xml version=\"1.0\" encoding=\"utf-8\" standalone=\"no\"?>\n<!DOCTYPE svg PUBLIC \"-//W3C//DTD SVG 1.1//EN\"\n  \"http://www.w3.org/Graphics/SVG/1.1/DTD/svg11.dtd\">\n<!-- Created with matplotlib (https://matplotlib.org/) -->\n<svg height=\"262.19625pt\" version=\"1.1\" viewBox=\"0 0 387.497978 262.19625\" width=\"387.497978pt\" xmlns=\"http://www.w3.org/2000/svg\" xmlns:xlink=\"http://www.w3.org/1999/xlink\">\n <defs>\n  <style type=\"text/css\">\n*{stroke-linecap:butt;stroke-linejoin:round;}\n  </style>\n </defs>\n <g id=\"figure_1\">\n  <g id=\"patch_1\">\n   <path d=\"M 0 262.19625 \nL 387.497978 262.19625 \nL 387.497978 0 \nL 0 0 \nz\n\" style=\"fill:none;\"/>\n  </g>\n  <g id=\"axes_1\">\n   <g id=\"patch_2\">\n    <path d=\"M 36.465625 224.64 \nL 371.265625 224.64 \nL 371.265625 7.2 \nL 36.465625 7.2 \nz\n\" style=\"fill:#ffffff;\"/>\n   </g>\n   <g id=\"matplotlib.axis_1\">\n    <g id=\"xtick_1\">\n     <g id=\"line2d_1\">\n      <defs>\n       <path d=\"M 0 0 \nL 0 3.5 \n\" id=\"m6a70fb2881\" style=\"stroke:#000000;stroke-width:0.8;\"/>\n      </defs>\n      <g>\n       <use style=\"stroke:#000000;stroke-width:0.8;\" x=\"72.161213\" xlink:href=\"#m6a70fb2881\" y=\"224.64\"/>\n      </g>\n     </g>\n     <g id=\"text_1\">\n      <!-- 1959 -->\n      <defs>\n       <path d=\"M 12.40625 8.296875 \nL 28.515625 8.296875 \nL 28.515625 63.921875 \nL 10.984375 60.40625 \nL 10.984375 69.390625 \nL 28.421875 72.90625 \nL 38.28125 72.90625 \nL 38.28125 8.296875 \nL 54.390625 8.296875 \nL 54.390625 0 \nL 12.40625 0 \nz\n\" id=\"DejaVuSans-49\"/>\n       <path d=\"M 10.984375 1.515625 \nL 10.984375 10.5 \nQ 14.703125 8.734375 18.5 7.8125 \nQ 22.3125 6.890625 25.984375 6.890625 \nQ 35.75 6.890625 40.890625 13.453125 \nQ 46.046875 20.015625 46.78125 33.40625 \nQ 43.953125 29.203125 39.59375 26.953125 \nQ 35.25 24.703125 29.984375 24.703125 \nQ 19.046875 24.703125 12.671875 31.3125 \nQ 6.296875 37.9375 6.296875 49.421875 \nQ 6.296875 60.640625 12.9375 67.421875 \nQ 19.578125 74.21875 30.609375 74.21875 \nQ 43.265625 74.21875 49.921875 64.515625 \nQ 56.59375 54.828125 56.59375 36.375 \nQ 56.59375 19.140625 48.40625 8.859375 \nQ 40.234375 -1.421875 26.421875 -1.421875 \nQ 22.703125 -1.421875 18.890625 -0.6875 \nQ 15.09375 0.046875 10.984375 1.515625 \nz\nM 30.609375 32.421875 \nQ 37.25 32.421875 41.125 36.953125 \nQ 45.015625 41.5 45.015625 49.421875 \nQ 45.015625 57.28125 41.125 61.84375 \nQ 37.25 66.40625 30.609375 66.40625 \nQ 23.96875 66.40625 20.09375 61.84375 \nQ 16.21875 57.28125 16.21875 49.421875 \nQ 16.21875 41.5 20.09375 36.953125 \nQ 23.96875 32.421875 30.609375 32.421875 \nz\n\" id=\"DejaVuSans-57\"/>\n       <path d=\"M 10.796875 72.90625 \nL 49.515625 72.90625 \nL 49.515625 64.59375 \nL 19.828125 64.59375 \nL 19.828125 46.734375 \nQ 21.96875 47.46875 24.109375 47.828125 \nQ 26.265625 48.1875 28.421875 48.1875 \nQ 40.625 48.1875 47.75 41.5 \nQ 54.890625 34.8125 54.890625 23.390625 \nQ 54.890625 11.625 47.5625 5.09375 \nQ 40.234375 -1.421875 26.90625 -1.421875 \nQ 22.3125 -1.421875 17.546875 -0.640625 \nQ 12.796875 0.140625 7.71875 1.703125 \nL 7.71875 11.625 \nQ 12.109375 9.234375 16.796875 8.0625 \nQ 21.484375 6.890625 26.703125 6.890625 \nQ 35.15625 6.890625 40.078125 11.328125 \nQ 45.015625 15.765625 45.015625 23.390625 \nQ 45.015625 31 40.078125 35.4375 \nQ 35.15625 39.890625 26.703125 39.890625 \nQ 22.75 39.890625 18.8125 39.015625 \nQ 14.890625 38.140625 10.796875 36.28125 \nz\n\" id=\"DejaVuSans-53\"/>\n      </defs>\n      <g transform=\"translate(59.436213 239.238437)scale(0.1 -0.1)\">\n       <use xlink:href=\"#DejaVuSans-49\"/>\n       <use x=\"63.623047\" xlink:href=\"#DejaVuSans-57\"/>\n       <use x=\"127.246094\" xlink:href=\"#DejaVuSans-53\"/>\n       <use x=\"190.869141\" xlink:href=\"#DejaVuSans-57\"/>\n      </g>\n     </g>\n    </g>\n    <g id=\"xtick_2\">\n     <g id=\"line2d_2\">\n      <g>\n       <use style=\"stroke:#000000;stroke-width:0.8;\" x=\"121.396507\" xlink:href=\"#m6a70fb2881\" y=\"224.64\"/>\n      </g>\n     </g>\n     <g id=\"text_2\">\n      <!-- 1969 -->\n      <defs>\n       <path d=\"M 33.015625 40.375 \nQ 26.375 40.375 22.484375 35.828125 \nQ 18.609375 31.296875 18.609375 23.390625 \nQ 18.609375 15.53125 22.484375 10.953125 \nQ 26.375 6.390625 33.015625 6.390625 \nQ 39.65625 6.390625 43.53125 10.953125 \nQ 47.40625 15.53125 47.40625 23.390625 \nQ 47.40625 31.296875 43.53125 35.828125 \nQ 39.65625 40.375 33.015625 40.375 \nz\nM 52.59375 71.296875 \nL 52.59375 62.3125 \nQ 48.875 64.0625 45.09375 64.984375 \nQ 41.3125 65.921875 37.59375 65.921875 \nQ 27.828125 65.921875 22.671875 59.328125 \nQ 17.53125 52.734375 16.796875 39.40625 \nQ 19.671875 43.65625 24.015625 45.921875 \nQ 28.375 48.1875 33.59375 48.1875 \nQ 44.578125 48.1875 50.953125 41.515625 \nQ 57.328125 34.859375 57.328125 23.390625 \nQ 57.328125 12.15625 50.6875 5.359375 \nQ 44.046875 -1.421875 33.015625 -1.421875 \nQ 20.359375 -1.421875 13.671875 8.265625 \nQ 6.984375 17.96875 6.984375 36.375 \nQ 6.984375 53.65625 15.1875 63.9375 \nQ 23.390625 74.21875 37.203125 74.21875 \nQ 40.921875 74.21875 44.703125 73.484375 \nQ 48.484375 72.75 52.59375 71.296875 \nz\n\" id=\"DejaVuSans-54\"/>\n      </defs>\n      <g transform=\"translate(108.671507 239.238437)scale(0.1 -0.1)\">\n       <use xlink:href=\"#DejaVuSans-49\"/>\n       <use x=\"63.623047\" xlink:href=\"#DejaVuSans-57\"/>\n       <use x=\"127.246094\" xlink:href=\"#DejaVuSans-54\"/>\n       <use x=\"190.869141\" xlink:href=\"#DejaVuSans-57\"/>\n      </g>\n     </g>\n    </g>\n    <g id=\"xtick_3\">\n     <g id=\"line2d_3\">\n      <g>\n       <use style=\"stroke:#000000;stroke-width:0.8;\" x=\"170.631801\" xlink:href=\"#m6a70fb2881\" y=\"224.64\"/>\n      </g>\n     </g>\n     <g id=\"text_3\">\n      <!-- 1979 -->\n      <defs>\n       <path d=\"M 8.203125 72.90625 \nL 55.078125 72.90625 \nL 55.078125 68.703125 \nL 28.609375 0 \nL 18.3125 0 \nL 43.21875 64.59375 \nL 8.203125 64.59375 \nz\n\" id=\"DejaVuSans-55\"/>\n      </defs>\n      <g transform=\"translate(157.906801 239.238437)scale(0.1 -0.1)\">\n       <use xlink:href=\"#DejaVuSans-49\"/>\n       <use x=\"63.623047\" xlink:href=\"#DejaVuSans-57\"/>\n       <use x=\"127.246094\" xlink:href=\"#DejaVuSans-55\"/>\n       <use x=\"190.869141\" xlink:href=\"#DejaVuSans-57\"/>\n      </g>\n     </g>\n    </g>\n    <g id=\"xtick_4\">\n     <g id=\"line2d_4\">\n      <g>\n       <use style=\"stroke:#000000;stroke-width:0.8;\" x=\"219.867096\" xlink:href=\"#m6a70fb2881\" y=\"224.64\"/>\n      </g>\n     </g>\n     <g id=\"text_4\">\n      <!-- 1989 -->\n      <defs>\n       <path d=\"M 31.78125 34.625 \nQ 24.75 34.625 20.71875 30.859375 \nQ 16.703125 27.09375 16.703125 20.515625 \nQ 16.703125 13.921875 20.71875 10.15625 \nQ 24.75 6.390625 31.78125 6.390625 \nQ 38.8125 6.390625 42.859375 10.171875 \nQ 46.921875 13.96875 46.921875 20.515625 \nQ 46.921875 27.09375 42.890625 30.859375 \nQ 38.875 34.625 31.78125 34.625 \nz\nM 21.921875 38.8125 \nQ 15.578125 40.375 12.03125 44.71875 \nQ 8.5 49.078125 8.5 55.328125 \nQ 8.5 64.0625 14.71875 69.140625 \nQ 20.953125 74.21875 31.78125 74.21875 \nQ 42.671875 74.21875 48.875 69.140625 \nQ 55.078125 64.0625 55.078125 55.328125 \nQ 55.078125 49.078125 51.53125 44.71875 \nQ 48 40.375 41.703125 38.8125 \nQ 48.828125 37.15625 52.796875 32.3125 \nQ 56.78125 27.484375 56.78125 20.515625 \nQ 56.78125 9.90625 50.3125 4.234375 \nQ 43.84375 -1.421875 31.78125 -1.421875 \nQ 19.734375 -1.421875 13.25 4.234375 \nQ 6.78125 9.90625 6.78125 20.515625 \nQ 6.78125 27.484375 10.78125 32.3125 \nQ 14.796875 37.15625 21.921875 38.8125 \nz\nM 18.3125 54.390625 \nQ 18.3125 48.734375 21.84375 45.5625 \nQ 25.390625 42.390625 31.78125 42.390625 \nQ 38.140625 42.390625 41.71875 45.5625 \nQ 45.3125 48.734375 45.3125 54.390625 \nQ 45.3125 60.0625 41.71875 63.234375 \nQ 38.140625 66.40625 31.78125 66.40625 \nQ 25.390625 66.40625 21.84375 63.234375 \nQ 18.3125 60.0625 18.3125 54.390625 \nz\n\" id=\"DejaVuSans-56\"/>\n      </defs>\n      <g transform=\"translate(207.142096 239.238437)scale(0.1 -0.1)\">\n       <use xlink:href=\"#DejaVuSans-49\"/>\n       <use x=\"63.623047\" xlink:href=\"#DejaVuSans-57\"/>\n       <use x=\"127.246094\" xlink:href=\"#DejaVuSans-56\"/>\n       <use x=\"190.869141\" xlink:href=\"#DejaVuSans-57\"/>\n      </g>\n     </g>\n    </g>\n    <g id=\"xtick_5\">\n     <g id=\"line2d_5\">\n      <g>\n       <use style=\"stroke:#000000;stroke-width:0.8;\" x=\"269.10239\" xlink:href=\"#m6a70fb2881\" y=\"224.64\"/>\n      </g>\n     </g>\n     <g id=\"text_5\">\n      <!-- 1999 -->\n      <g transform=\"translate(256.37739 239.238437)scale(0.1 -0.1)\">\n       <use xlink:href=\"#DejaVuSans-49\"/>\n       <use x=\"63.623047\" xlink:href=\"#DejaVuSans-57\"/>\n       <use x=\"127.246094\" xlink:href=\"#DejaVuSans-57\"/>\n       <use x=\"190.869141\" xlink:href=\"#DejaVuSans-57\"/>\n      </g>\n     </g>\n    </g>\n    <g id=\"xtick_6\">\n     <g id=\"line2d_6\">\n      <g>\n       <use style=\"stroke:#000000;stroke-width:0.8;\" x=\"318.337684\" xlink:href=\"#m6a70fb2881\" y=\"224.64\"/>\n      </g>\n     </g>\n     <g id=\"text_6\">\n      <!-- 2009 -->\n      <defs>\n       <path d=\"M 19.1875 8.296875 \nL 53.609375 8.296875 \nL 53.609375 0 \nL 7.328125 0 \nL 7.328125 8.296875 \nQ 12.9375 14.109375 22.625 23.890625 \nQ 32.328125 33.6875 34.8125 36.53125 \nQ 39.546875 41.84375 41.421875 45.53125 \nQ 43.3125 49.21875 43.3125 52.78125 \nQ 43.3125 58.59375 39.234375 62.25 \nQ 35.15625 65.921875 28.609375 65.921875 \nQ 23.96875 65.921875 18.8125 64.3125 \nQ 13.671875 62.703125 7.8125 59.421875 \nL 7.8125 69.390625 \nQ 13.765625 71.78125 18.9375 73 \nQ 24.125 74.21875 28.421875 74.21875 \nQ 39.75 74.21875 46.484375 68.546875 \nQ 53.21875 62.890625 53.21875 53.421875 \nQ 53.21875 48.921875 51.53125 44.890625 \nQ 49.859375 40.875 45.40625 35.40625 \nQ 44.1875 33.984375 37.640625 27.21875 \nQ 31.109375 20.453125 19.1875 8.296875 \nz\n\" id=\"DejaVuSans-50\"/>\n       <path d=\"M 31.78125 66.40625 \nQ 24.171875 66.40625 20.328125 58.90625 \nQ 16.5 51.421875 16.5 36.375 \nQ 16.5 21.390625 20.328125 13.890625 \nQ 24.171875 6.390625 31.78125 6.390625 \nQ 39.453125 6.390625 43.28125 13.890625 \nQ 47.125 21.390625 47.125 36.375 \nQ 47.125 51.421875 43.28125 58.90625 \nQ 39.453125 66.40625 31.78125 66.40625 \nz\nM 31.78125 74.21875 \nQ 44.046875 74.21875 50.515625 64.515625 \nQ 56.984375 54.828125 56.984375 36.375 \nQ 56.984375 17.96875 50.515625 8.265625 \nQ 44.046875 -1.421875 31.78125 -1.421875 \nQ 19.53125 -1.421875 13.0625 8.265625 \nQ 6.59375 17.96875 6.59375 36.375 \nQ 6.59375 54.828125 13.0625 64.515625 \nQ 19.53125 74.21875 31.78125 74.21875 \nz\n\" id=\"DejaVuSans-48\"/>\n      </defs>\n      <g transform=\"translate(305.612684 239.238437)scale(0.1 -0.1)\">\n       <use xlink:href=\"#DejaVuSans-50\"/>\n       <use x=\"63.623047\" xlink:href=\"#DejaVuSans-48\"/>\n       <use x=\"127.246094\" xlink:href=\"#DejaVuSans-48\"/>\n       <use x=\"190.869141\" xlink:href=\"#DejaVuSans-57\"/>\n      </g>\n     </g>\n    </g>\n    <g id=\"xtick_7\">\n     <g id=\"line2d_7\">\n      <g>\n       <use style=\"stroke:#000000;stroke-width:0.8;\" x=\"367.572978\" xlink:href=\"#m6a70fb2881\" y=\"224.64\"/>\n      </g>\n     </g>\n     <g id=\"text_7\">\n      <!-- 2019 -->\n      <g transform=\"translate(354.847978 239.238437)scale(0.1 -0.1)\">\n       <use xlink:href=\"#DejaVuSans-50\"/>\n       <use x=\"63.623047\" xlink:href=\"#DejaVuSans-48\"/>\n       <use x=\"127.246094\" xlink:href=\"#DejaVuSans-49\"/>\n       <use x=\"190.869141\" xlink:href=\"#DejaVuSans-57\"/>\n      </g>\n     </g>\n    </g>\n    <g id=\"xtick_8\">\n     <g id=\"line2d_8\">\n      <defs>\n       <path d=\"M 0 0 \nL 0 2 \n\" id=\"m9be1450750\" style=\"stroke:#000000;stroke-width:0.6;\"/>\n      </defs>\n      <g>\n       <use style=\"stroke:#000000;stroke-width:0.6;\" x=\"47.543566\" xlink:href=\"#m9be1450750\" y=\"224.64\"/>\n      </g>\n     </g>\n    </g>\n    <g id=\"xtick_9\">\n     <g id=\"line2d_9\">\n      <g>\n       <use style=\"stroke:#000000;stroke-width:0.6;\" x=\"96.77886\" xlink:href=\"#m9be1450750\" y=\"224.64\"/>\n      </g>\n     </g>\n    </g>\n    <g id=\"xtick_10\">\n     <g id=\"line2d_10\">\n      <g>\n       <use style=\"stroke:#000000;stroke-width:0.6;\" x=\"146.014154\" xlink:href=\"#m9be1450750\" y=\"224.64\"/>\n      </g>\n     </g>\n    </g>\n    <g id=\"xtick_11\">\n     <g id=\"line2d_11\">\n      <g>\n       <use style=\"stroke:#000000;stroke-width:0.6;\" x=\"195.249449\" xlink:href=\"#m9be1450750\" y=\"224.64\"/>\n      </g>\n     </g>\n    </g>\n    <g id=\"xtick_12\">\n     <g id=\"line2d_12\">\n      <g>\n       <use style=\"stroke:#000000;stroke-width:0.6;\" x=\"244.484743\" xlink:href=\"#m9be1450750\" y=\"224.64\"/>\n      </g>\n     </g>\n    </g>\n    <g id=\"xtick_13\">\n     <g id=\"line2d_13\">\n      <g>\n       <use style=\"stroke:#000000;stroke-width:0.6;\" x=\"293.720037\" xlink:href=\"#m9be1450750\" y=\"224.64\"/>\n      </g>\n     </g>\n    </g>\n    <g id=\"xtick_14\">\n     <g id=\"line2d_14\">\n      <g>\n       <use style=\"stroke:#000000;stroke-width:0.6;\" x=\"342.955331\" xlink:href=\"#m9be1450750\" y=\"224.64\"/>\n      </g>\n     </g>\n    </g>\n    <g id=\"text_8\">\n     <!-- date -->\n     <defs>\n      <path d=\"M 45.40625 46.390625 \nL 45.40625 75.984375 \nL 54.390625 75.984375 \nL 54.390625 0 \nL 45.40625 0 \nL 45.40625 8.203125 \nQ 42.578125 3.328125 38.25 0.953125 \nQ 33.9375 -1.421875 27.875 -1.421875 \nQ 17.96875 -1.421875 11.734375 6.484375 \nQ 5.515625 14.40625 5.515625 27.296875 \nQ 5.515625 40.1875 11.734375 48.09375 \nQ 17.96875 56 27.875 56 \nQ 33.9375 56 38.25 53.625 \nQ 42.578125 51.265625 45.40625 46.390625 \nz\nM 14.796875 27.296875 \nQ 14.796875 17.390625 18.875 11.75 \nQ 22.953125 6.109375 30.078125 6.109375 \nQ 37.203125 6.109375 41.296875 11.75 \nQ 45.40625 17.390625 45.40625 27.296875 \nQ 45.40625 37.203125 41.296875 42.84375 \nQ 37.203125 48.484375 30.078125 48.484375 \nQ 22.953125 48.484375 18.875 42.84375 \nQ 14.796875 37.203125 14.796875 27.296875 \nz\n\" id=\"DejaVuSans-100\"/>\n      <path d=\"M 34.28125 27.484375 \nQ 23.390625 27.484375 19.1875 25 \nQ 14.984375 22.515625 14.984375 16.5 \nQ 14.984375 11.71875 18.140625 8.90625 \nQ 21.296875 6.109375 26.703125 6.109375 \nQ 34.1875 6.109375 38.703125 11.40625 \nQ 43.21875 16.703125 43.21875 25.484375 \nL 43.21875 27.484375 \nz\nM 52.203125 31.203125 \nL 52.203125 0 \nL 43.21875 0 \nL 43.21875 8.296875 \nQ 40.140625 3.328125 35.546875 0.953125 \nQ 30.953125 -1.421875 24.3125 -1.421875 \nQ 15.921875 -1.421875 10.953125 3.296875 \nQ 6 8.015625 6 15.921875 \nQ 6 25.140625 12.171875 29.828125 \nQ 18.359375 34.515625 30.609375 34.515625 \nL 43.21875 34.515625 \nL 43.21875 35.40625 \nQ 43.21875 41.609375 39.140625 45 \nQ 35.0625 48.390625 27.6875 48.390625 \nQ 23 48.390625 18.546875 47.265625 \nQ 14.109375 46.140625 10.015625 43.890625 \nL 10.015625 52.203125 \nQ 14.9375 54.109375 19.578125 55.046875 \nQ 24.21875 56 28.609375 56 \nQ 40.484375 56 46.34375 49.84375 \nQ 52.203125 43.703125 52.203125 31.203125 \nz\n\" id=\"DejaVuSans-97\"/>\n      <path d=\"M 18.3125 70.21875 \nL 18.3125 54.6875 \nL 36.8125 54.6875 \nL 36.8125 47.703125 \nL 18.3125 47.703125 \nL 18.3125 18.015625 \nQ 18.3125 11.328125 20.140625 9.421875 \nQ 21.96875 7.515625 27.59375 7.515625 \nL 36.8125 7.515625 \nL 36.8125 0 \nL 27.59375 0 \nQ 17.1875 0 13.234375 3.875 \nQ 9.28125 7.765625 9.28125 18.015625 \nL 9.28125 47.703125 \nL 2.6875 47.703125 \nL 2.6875 54.6875 \nL 9.28125 54.6875 \nL 9.28125 70.21875 \nz\n\" id=\"DejaVuSans-116\"/>\n      <path d=\"M 56.203125 29.59375 \nL 56.203125 25.203125 \nL 14.890625 25.203125 \nQ 15.484375 15.921875 20.484375 11.0625 \nQ 25.484375 6.203125 34.421875 6.203125 \nQ 39.59375 6.203125 44.453125 7.46875 \nQ 49.3125 8.734375 54.109375 11.28125 \nL 54.109375 2.78125 \nQ 49.265625 0.734375 44.1875 -0.34375 \nQ 39.109375 -1.421875 33.890625 -1.421875 \nQ 20.796875 -1.421875 13.15625 6.1875 \nQ 5.515625 13.8125 5.515625 26.8125 \nQ 5.515625 40.234375 12.765625 48.109375 \nQ 20.015625 56 32.328125 56 \nQ 43.359375 56 49.78125 48.890625 \nQ 56.203125 41.796875 56.203125 29.59375 \nz\nM 47.21875 32.234375 \nQ 47.125 39.59375 43.09375 43.984375 \nQ 39.0625 48.390625 32.421875 48.390625 \nQ 24.90625 48.390625 20.390625 44.140625 \nQ 15.875 39.890625 15.1875 32.171875 \nz\n\" id=\"DejaVuSans-101\"/>\n     </defs>\n     <g transform=\"translate(192.590625 252.916562)scale(0.1 -0.1)\">\n      <use xlink:href=\"#DejaVuSans-100\"/>\n      <use x=\"63.476562\" xlink:href=\"#DejaVuSans-97\"/>\n      <use x=\"124.755859\" xlink:href=\"#DejaVuSans-116\"/>\n      <use x=\"163.964844\" xlink:href=\"#DejaVuSans-101\"/>\n     </g>\n    </g>\n   </g>\n   <g id=\"matplotlib.axis_2\">\n    <g id=\"ytick_1\">\n     <g id=\"line2d_15\">\n      <defs>\n       <path d=\"M 0 0 \nL -3.5 0 \n\" id=\"m297093e352\" style=\"stroke:#000000;stroke-width:0.8;\"/>\n      </defs>\n      <g>\n       <use style=\"stroke:#000000;stroke-width:0.8;\" x=\"36.465625\" xlink:href=\"#m297093e352\" y=\"218.444973\"/>\n      </g>\n     </g>\n     <g id=\"text_9\">\n      <!-- 0.25 -->\n      <defs>\n       <path d=\"M 10.6875 12.40625 \nL 21 12.40625 \nL 21 0 \nL 10.6875 0 \nz\n\" id=\"DejaVuSans-46\"/>\n      </defs>\n      <g transform=\"translate(7.2 222.244192)scale(0.1 -0.1)\">\n       <use xlink:href=\"#DejaVuSans-48\"/>\n       <use x=\"63.623047\" xlink:href=\"#DejaVuSans-46\"/>\n       <use x=\"95.410156\" xlink:href=\"#DejaVuSans-50\"/>\n       <use x=\"159.033203\" xlink:href=\"#DejaVuSans-53\"/>\n      </g>\n     </g>\n    </g>\n    <g id=\"ytick_2\">\n     <g id=\"line2d_16\">\n      <g>\n       <use style=\"stroke:#000000;stroke-width:0.8;\" x=\"36.465625\" xlink:href=\"#m297093e352\" y=\"191.841492\"/>\n      </g>\n     </g>\n     <g id=\"text_10\">\n      <!-- 0.50 -->\n      <g transform=\"translate(7.2 195.640711)scale(0.1 -0.1)\">\n       <use xlink:href=\"#DejaVuSans-48\"/>\n       <use x=\"63.623047\" xlink:href=\"#DejaVuSans-46\"/>\n       <use x=\"95.410156\" xlink:href=\"#DejaVuSans-53\"/>\n       <use x=\"159.033203\" xlink:href=\"#DejaVuSans-48\"/>\n      </g>\n     </g>\n    </g>\n    <g id=\"ytick_3\">\n     <g id=\"line2d_17\">\n      <g>\n       <use style=\"stroke:#000000;stroke-width:0.8;\" x=\"36.465625\" xlink:href=\"#m297093e352\" y=\"165.238011\"/>\n      </g>\n     </g>\n     <g id=\"text_11\">\n      <!-- 0.75 -->\n      <g transform=\"translate(7.2 169.037229)scale(0.1 -0.1)\">\n       <use xlink:href=\"#DejaVuSans-48\"/>\n       <use x=\"63.623047\" xlink:href=\"#DejaVuSans-46\"/>\n       <use x=\"95.410156\" xlink:href=\"#DejaVuSans-55\"/>\n       <use x=\"159.033203\" xlink:href=\"#DejaVuSans-53\"/>\n      </g>\n     </g>\n    </g>\n    <g id=\"ytick_4\">\n     <g id=\"line2d_18\">\n      <g>\n       <use style=\"stroke:#000000;stroke-width:0.8;\" x=\"36.465625\" xlink:href=\"#m297093e352\" y=\"138.63453\"/>\n      </g>\n     </g>\n     <g id=\"text_12\">\n      <!-- 1.00 -->\n      <g transform=\"translate(7.2 142.433748)scale(0.1 -0.1)\">\n       <use xlink:href=\"#DejaVuSans-49\"/>\n       <use x=\"63.623047\" xlink:href=\"#DejaVuSans-46\"/>\n       <use x=\"95.410156\" xlink:href=\"#DejaVuSans-48\"/>\n       <use x=\"159.033203\" xlink:href=\"#DejaVuSans-48\"/>\n      </g>\n     </g>\n    </g>\n    <g id=\"ytick_5\">\n     <g id=\"line2d_19\">\n      <g>\n       <use style=\"stroke:#000000;stroke-width:0.8;\" x=\"36.465625\" xlink:href=\"#m297093e352\" y=\"112.031048\"/>\n      </g>\n     </g>\n     <g id=\"text_13\">\n      <!-- 1.25 -->\n      <g transform=\"translate(7.2 115.830267)scale(0.1 -0.1)\">\n       <use xlink:href=\"#DejaVuSans-49\"/>\n       <use x=\"63.623047\" xlink:href=\"#DejaVuSans-46\"/>\n       <use x=\"95.410156\" xlink:href=\"#DejaVuSans-50\"/>\n       <use x=\"159.033203\" xlink:href=\"#DejaVuSans-53\"/>\n      </g>\n     </g>\n    </g>\n    <g id=\"ytick_6\">\n     <g id=\"line2d_20\">\n      <g>\n       <use style=\"stroke:#000000;stroke-width:0.8;\" x=\"36.465625\" xlink:href=\"#m297093e352\" y=\"85.427567\"/>\n      </g>\n     </g>\n     <g id=\"text_14\">\n      <!-- 1.50 -->\n      <g transform=\"translate(7.2 89.226786)scale(0.1 -0.1)\">\n       <use xlink:href=\"#DejaVuSans-49\"/>\n       <use x=\"63.623047\" xlink:href=\"#DejaVuSans-46\"/>\n       <use x=\"95.410156\" xlink:href=\"#DejaVuSans-53\"/>\n       <use x=\"159.033203\" xlink:href=\"#DejaVuSans-48\"/>\n      </g>\n     </g>\n    </g>\n    <g id=\"ytick_7\">\n     <g id=\"line2d_21\">\n      <g>\n       <use style=\"stroke:#000000;stroke-width:0.8;\" x=\"36.465625\" xlink:href=\"#m297093e352\" y=\"58.824086\"/>\n      </g>\n     </g>\n     <g id=\"text_15\">\n      <!-- 1.75 -->\n      <g transform=\"translate(7.2 62.623305)scale(0.1 -0.1)\">\n       <use xlink:href=\"#DejaVuSans-49\"/>\n       <use x=\"63.623047\" xlink:href=\"#DejaVuSans-46\"/>\n       <use x=\"95.410156\" xlink:href=\"#DejaVuSans-55\"/>\n       <use x=\"159.033203\" xlink:href=\"#DejaVuSans-53\"/>\n      </g>\n     </g>\n    </g>\n    <g id=\"ytick_8\">\n     <g id=\"line2d_22\">\n      <g>\n       <use style=\"stroke:#000000;stroke-width:0.8;\" x=\"36.465625\" xlink:href=\"#m297093e352\" y=\"32.220605\"/>\n      </g>\n     </g>\n     <g id=\"text_16\">\n      <!-- 2.00 -->\n      <g transform=\"translate(7.2 36.019824)scale(0.1 -0.1)\">\n       <use xlink:href=\"#DejaVuSans-50\"/>\n       <use x=\"63.623047\" xlink:href=\"#DejaVuSans-46\"/>\n       <use x=\"95.410156\" xlink:href=\"#DejaVuSans-48\"/>\n       <use x=\"159.033203\" xlink:href=\"#DejaVuSans-48\"/>\n      </g>\n     </g>\n    </g>\n   </g>\n   <g id=\"line2d_23\">\n    <path clip-path=\"url(#pdab058759a)\" d=\"M 36.465625 201.914955 \nL 37.696507 202.125645 \nL 38.92739 200.979171 \nL 40.158272 201.244881 \nL 41.389154 204.312167 \nL 42.620037 205.779913 \nL 43.850919 208.898905 \nL 45.081801 210.674343 \nL 46.312684 206.658698 \nL 47.543566 203.850175 \nL 48.774449 200.074766 \nL 50.005331 195.23868 \nL 51.236213 194.567008 \nL 52.467096 193.386827 \nL 53.697978 188.466382 \nL 54.92886 186.064764 \nL 56.159743 186.533578 \nL 57.390625 184.479848 \nL 59.85239 190.477738 \nL 61.083272 186.629515 \nL 62.314154 190.928134 \nL 63.545037 187.73541 \nL 64.775919 194.303449 \nL 66.006801 194.380979 \nL 67.237684 191.592746 \nL 68.468566 188.474125 \nL 69.699449 182.508808 \nL 70.930331 179.913367 \nL 72.161213 179.288658 \nL 73.392096 177.28121 \nL 74.622978 179.461086 \nL 75.85386 175.426857 \nL 77.084743 180.206031 \nL 78.315625 178.798869 \nL 79.546507 184.363675 \nL 82.008272 167.567611 \nL 83.239154 168.228951 \nL 84.470037 166.780566 \nL 85.700919 164.406764 \nL 86.931801 167.089293 \nL 88.162684 185.958697 \nL 89.393566 183.152452 \nL 90.624449 169.426066 \nL 91.855331 165.867289 \nL 93.086213 162.90385 \nL 94.317096 160.56367 \nL 95.547978 164.511712 \nL 96.77886 160.562479 \nL 98.009743 159.233947 \nL 99.240625 157.3531 \nL 100.471507 154.93921 \nL 101.70239 153.997578 \nL 102.933272 158.547965 \nL 104.164154 152.11266 \nL 105.395037 148.622423 \nL 106.625919 152.555858 \nL 107.856801 158.859341 \nL 109.087684 168.551361 \nL 110.318566 166.294359 \nL 111.549449 156.45985 \nL 112.780331 155.669226 \nL 114.011213 152.399778 \nL 115.242096 149.819162 \nL 116.472978 159.355052 \nL 117.70386 151.113245 \nL 118.934743 152.914301 \nL 120.165625 140.928225 \nL 121.396507 148.272068 \nL 123.858272 159.355044 \nL 125.089154 165.655959 \nL 126.320037 170.399034 \nL 127.550919 187.134811 \nL 128.781801 178.048849 \nL 131.243566 166.918902 \nL 132.474449 168.400653 \nL 133.705331 171.466929 \nL 134.936213 167.327666 \nL 136.167096 165.287041 \nL 137.397978 166.673365 \nL 138.62886 166.543152 \nL 139.859743 156.914423 \nL 142.321507 172.35011 \nL 143.55239 170.638355 \nL 144.783272 183.822729 \nL 146.014154 187.976647 \nL 147.245037 194.822007 \nL 148.475919 209.66939 \nL 149.706801 211.971381 \nL 150.937684 202.611589 \nL 152.168566 197.479174 \nL 153.399449 203.198395 \nL 154.630331 200.871565 \nL 155.861213 195.60857 \nL 158.322978 196.898286 \nL 159.55386 196.391085 \nL 160.784743 201.241564 \nL 162.015625 201.107591 \nL 163.246507 203.998499 \nL 164.47739 206.258633 \nL 165.708272 209.273087 \nL 168.170037 206.368158 \nL 169.400919 209.250529 \nL 170.631801 208.245283 \nL 171.862684 209.224911 \nL 173.093566 208.352612 \nL 174.324449 208.170769 \nL 175.555331 211.19043 \nL 179.247978 202.391076 \nL 180.47886 203.623511 \nL 181.709743 205.900262 \nL 182.940625 211.800046 \nL 184.171507 210.258173 \nL 185.40239 214.012845 \nL 186.633272 214.756364 \nL 187.864154 212.310983 \nL 189.095037 206.702136 \nL 190.325919 203.262108 \nL 191.556801 198.189522 \nL 192.787684 199.189187 \nL 194.018566 201.751909 \nL 195.249449 204.7278 \nL 196.480331 207.165038 \nL 197.711213 205.716491 \nL 198.942096 206.208954 \nL 200.172978 203.235116 \nL 201.40386 201.654184 \nL 202.634743 204.4106 \nL 203.865625 198.098115 \nL 205.096507 193.074251 \nL 206.32739 191.039555 \nL 207.558272 196.401276 \nL 208.789154 191.592082 \nL 210.020037 181.436194 \nL 211.250919 180.360356 \nL 212.481801 177.525077 \nL 213.712684 192.947746 \nL 214.943566 190.734804 \nL 216.174449 189.415229 \nL 217.405331 191.392966 \nL 218.636213 190.155693 \nL 219.867096 190.218948 \nL 221.097978 186.809248 \nL 222.32886 182.019379 \nL 223.559743 178.989623 \nL 224.790625 181.369216 \nL 226.021507 178.735206 \nL 227.25239 188.958023 \nL 228.483272 183.398299 \nL 229.714154 174.396252 \nL 230.945037 175.358728 \nL 232.175919 170.290275 \nL 233.406801 157.81302 \nL 234.637684 156.85325 \nL 235.868566 157.101905 \nL 237.099449 153.978589 \nL 238.330331 143.777141 \nL 239.561213 140.946165 \nL 240.792096 141.700131 \nL 242.022978 140.287813 \nL 243.25386 137.149858 \nL 244.484743 143.291765 \nL 245.715625 147.427107 \nL 246.946507 143.839455 \nL 248.17739 146.543219 \nL 251.870037 128.199963 \nL 253.100919 119.956537 \nL 254.331801 116.53157 \nL 255.562684 112.072774 \nL 256.793566 111.831724 \nL 258.024449 111.134901 \nL 259.255331 119.657208 \nL 260.486213 101.49036 \nL 261.717096 96.040896 \nL 262.947978 96.469606 \nL 264.17886 84.140191 \nL 265.409743 81.016943 \nL 266.640625 99.890604 \nL 267.871507 70.364977 \nL 269.10239 67.741133 \nL 270.333272 53.891027 \nL 271.564154 66.224529 \nL 272.795037 30.305773 \nL 274.025919 17.083636 \nL 275.256801 26.476668 \nL 276.487684 45.710919 \nL 277.718566 89.236013 \nL 278.949449 106.315759 \nL 280.180331 95.883623 \nL 281.411213 120.619201 \nL 282.642096 108.498034 \nL 283.872978 107.705449 \nL 286.334743 146.867473 \nL 287.565625 147.771049 \nL 288.796507 153.495867 \nL 290.02739 140.838849 \nL 291.258272 136.736275 \nL 292.489154 122.144962 \nL 293.720037 123.431538 \nL 294.950919 127.299116 \nL 296.181801 135.591396 \nL 297.412684 127.995307 \nL 298.643566 129.366524 \nL 299.874449 131.034973 \nL 301.105331 130.420713 \nL 302.336213 134.547363 \nL 303.567096 129.312582 \nL 304.797978 138.08707 \nL 306.02886 138.274589 \nL 307.259743 133.140756 \nL 308.490625 131.595476 \nL 309.721507 128.246377 \nL 310.95239 128.145365 \nL 312.183272 133.756713 \nL 313.414154 139.956707 \nL 314.645037 138.111161 \nL 315.875919 151.791426 \nL 317.106801 167.537864 \nL 318.337684 174.333014 \nL 319.568566 157.477444 \nL 320.799449 138.942547 \nL 322.030331 134.138959 \nL 323.261213 127.653464 \nL 324.492096 147.57424 \nL 325.722978 136.627279 \nL 326.95386 106.896809 \nL 328.184743 100.212903 \nL 329.415625 104.749541 \nL 330.646507 126.084606 \nL 331.87739 113.678723 \nL 333.108272 98.095495 \nL 334.339154 104.50189 \nL 335.570037 98.997472 \nL 336.800919 99.449603 \nL 338.031801 81.749016 \nL 339.262684 84.125138 \nL 340.493566 80.791843 \nL 341.724449 69.99442 \nL 342.955331 64.718912 \nL 344.186213 58.828661 \nL 345.417096 63.740932 \nL 346.647978 57.449896 \nL 347.87886 61.424051 \nL 349.109743 65.936753 \nL 350.340625 85.05846 \nL 351.571507 73.675351 \nL 352.80239 65.340016 \nL 354.033272 65.723612 \nL 355.264154 67.454927 \nL 356.495037 66.403743 \nL 357.725919 54.522797 \nL 358.956801 56.962758 \nL 360.187684 54.46805 \nL 361.418566 45.661557 \nL 362.649449 48.241198 \nL 363.880331 49.230895 \nL 365.111213 28.310792 \nL 366.342096 73.01585 \nL 367.572978 42.738252 \nL 368.80386 42.993545 \nL 370.034743 48.078289 \nL 371.265625 31.692864 \nL 371.265625 31.692864 \n\" style=\"fill:none;stroke:#1f77b4;stroke-linecap:square;stroke-width:1.5;\"/>\n   </g>\n   <g id=\"patch_3\">\n    <path d=\"M 36.465625 224.64 \nL 36.465625 7.2 \n\" style=\"fill:none;stroke:#000000;stroke-linecap:square;stroke-linejoin:miter;stroke-width:0.8;\"/>\n   </g>\n   <g id=\"patch_4\">\n    <path d=\"M 371.265625 224.64 \nL 371.265625 7.2 \n\" style=\"fill:none;stroke:#000000;stroke-linecap:square;stroke-linejoin:miter;stroke-width:0.8;\"/>\n   </g>\n   <g id=\"patch_5\">\n    <path d=\"M 36.465625 224.64 \nL 371.265625 224.64 \n\" style=\"fill:none;stroke:#000000;stroke-linecap:square;stroke-linejoin:miter;stroke-width:0.8;\"/>\n   </g>\n   <g id=\"patch_6\">\n    <path d=\"M 36.465625 7.2 \nL 371.265625 7.2 \n\" style=\"fill:none;stroke:#000000;stroke-linecap:square;stroke-linejoin:miter;stroke-width:0.8;\"/>\n   </g>\n  </g>\n </g>\n <defs>\n  <clipPath id=\"pdab058759a\">\n   <rect height=\"217.44\" width=\"334.8\" x=\"36.465625\" y=\"7.2\"/>\n  </clipPath>\n </defs>\n</svg>\n"
     },
     "metadata": {
      "needs_background": "light"
     }
    }
   ],
   "source": [
    "Q_RATIOS = load_q_ratios()\n",
    "Q_RATIOS[Q_RATIO_VALUE_COL].plot()\n",
    "plt.show()"
   ]
  },
  {
   "cell_type": "code",
   "execution_count": 196,
   "metadata": {},
   "outputs": [],
   "source": [
    "def get_q_ratio_for_date(date):\n",
    "    q_ratios_before_date = Q_RATIOS[Q_RATIOS[Q_RATIO_DATE_COL] < date]\n",
    "    latest_q_ratio = q_ratios_before_date.last('3D').iloc[0]\n",
    "\n",
    "    return latest_q_ratio[Q_RATIO_VALUE_COL]"
   ]
  },
  {
   "cell_type": "code",
   "execution_count": 197,
   "metadata": {},
   "outputs": [
    {
     "output_type": "execute_result",
     "data": {
      "text/plain": "2.14224612552741"
     },
     "metadata": {},
     "execution_count": 197
    }
   ],
   "source": [
    "get_q_ratio_for_date(datetime(2000, 1, 3))"
   ]
  },
  {
   "cell_type": "markdown",
   "metadata": {},
   "source": [
    "Now let's update trade_for_date, to consider this"
   ]
  },
  {
   "cell_type": "code",
   "execution_count": 198,
   "metadata": {},
   "outputs": [],
   "source": [
    "from copy import copy\n",
    "\n",
    "def trade_for_date(portfolio_row, goal):\n",
    "  date = portfolio_row[PORTFOLIO_DATE]\n",
    "  q_ratio = get_q_ratio_for_date(date)\n",
    "  if q_ratio < 1.2:\n",
    "      goal = copy(goal)\n",
    "      goal[GOAL_STOCK_ALLOC] = 0.999\n",
    "  \n",
    "  best_option_row = find_best_option_row_to_buy(date, goal[GOAL_OTM_RANGE], goal[GOAL_MATURITY_RANGE])\n",
    "  new_portfolio_row = buy_at_allocation(\n",
    "    sell_over_allocation(portfolio_row, goal, best_option_row),\n",
    "    goal,\n",
    "    best_option_row)\n",
    "  \n",
    "  return new_portfolio_row"
   ]
  },
  {
   "cell_type": "code",
   "execution_count": 199,
   "metadata": {},
   "outputs": [
    {
     "output_type": "error",
     "ename": "SystemExit",
     "evalue": "Uh oh, expected to find one stock price date = 2001-01-01 00:00:00",
     "traceback": [
      "An exception has occurred, use %tb to see the full traceback.\n",
      "\u001b[0;31mSystemExit\u001b[0m\u001b[0;31m:\u001b[0m Uh oh, expected to find one stock price date = 2001-01-01 00:00:00\n"
     ]
    }
   ],
   "source": [
    "simulate_and_compare(\n",
    "    build_goal(stock_alloc=0.995, otm_range=(0.2, 0.3), maturity_range=(60, 220)),\n",
    "    100000\n",
    ")"
   ]
  },
  {
   "cell_type": "markdown",
   "metadata": {},
   "source": []
  },
  {
   "cell_type": "markdown",
   "metadata": {},
   "source": [
    "# Looking at SPY"
   ]
  },
  {
   "cell_type": "markdown",
   "metadata": {},
   "source": [
    "What if we tried SPY and American options, instead of SPX and european options?"
   ]
  },
  {
   "cell_type": "markdown",
   "metadata": {},
   "source": [
    "First, let's reset"
   ]
  },
  {
   "cell_type": "code",
   "execution_count": 200,
   "metadata": {},
   "outputs": [],
   "source": [
    "# SPY_PRICES_FILE_PATH = 'spy_etf_prices.csv'\n",
    "# STOCK_PRICES = load_stock_prices(SPY_PRICES_FILE_PATH)\n",
    "# STOCK_PRICES"
   ]
  },
  {
   "cell_type": "markdown",
   "metadata": {},
   "source": [
    "## SPY ETF"
   ]
  },
  {
   "cell_type": "code",
   "execution_count": 201,
   "metadata": {},
   "outputs": [],
   "source": [
    "# SPY_OPTION_PRICES_FILE_PATH = 'spy_option_prices.csv'\n",
    "# OPTION_PRICES = load_option_prices(SPY_OPTION_PRICES_FILE_PATH)\n",
    "# OPTION_PRICES"
   ]
  },
  {
   "cell_type": "markdown",
   "metadata": {},
   "source": [
    "## SPY Options"
   ]
  }
 ],
 "metadata": {
  "language_info": {
   "name": "python",
   "codemirror_mode": {
    "name": "ipython",
    "version": 2
   },
   "version": "3.8.1-final"
  },
  "orig_nbformat": 2,
  "file_extension": ".py",
  "mimetype": "text/x-python",
  "name": "python",
  "npconvert_exporter": "python",
  "pygments_lexer": "ipython2",
  "version": 2,
  "kernelspec": {
   "name": "python38164bitputscondaec814d430c084d518257bf4cbac185fe",
   "display_name": "Python 3.8.1 64-bit ('puts': conda)"
  }
 },
 "nbformat": 4,
 "nbformat_minor": 2
}