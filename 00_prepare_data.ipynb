{
 "cells": [
  {
   "cell_type": "code",
   "execution_count": 1,
   "metadata": {},
   "outputs": [],
   "source": [
    "import numpy as np\n",
    "import pandas as pd\n",
    "\n",
    "from datetime import datetime"
   ]
  },
  {
   "cell_type": "code",
   "execution_count": 2,
   "metadata": {},
   "outputs": [],
   "source": [
    "STOCK_PRICES_DATE_COL = 'Date'\n",
    "STOCK_PRICES_HIGH_COL = 'High'\n",
    "STOCK_PRICES_LOW_COL = 'Low'\n",
    "STOCK_PRICES_AVG_COL = 'Avg'\n",
    "\n",
    "def load_stock_prices(path):\n",
    "  stock_prices = pd.read_csv(path)\n",
    "  stock_prices[STOCK_PRICES_DATE_COL] = pd.to_datetime(stock_prices[STOCK_PRICES_DATE_COL])\n",
    "  stock_prices[STOCK_PRICES_AVG_COL] = ((stock_prices[STOCK_PRICES_HIGH_COL] + stock_prices[STOCK_PRICES_LOW_COL]) / 2)\n",
    "  stock_prices = stock_prices.set_index(STOCK_PRICES_DATE_COL)\n",
    "\n",
    "  return stock_prices"
   ]
  },
  {
   "cell_type": "code",
   "execution_count": 6,
   "metadata": {},
   "outputs": [],
   "source": [
    "OPTION_PRICES_DATE_COL = 'date'\n",
    "OPTION_PRICES_EXPIRATION_COL = 'exdate'\n",
    "OPTION_PRICES_MATURITY_COL = 'maturity'\n",
    "OPTION_PRICES_STRIKE_COL = 'strike_price'\n",
    "OPTION_PRICES_BID_COL = 'best_bid'\n",
    "OPTION_PRICES_OFFER_COL = 'best_offer'\n",
    "OPTION_PRICES_SPREAD_COL = 'spread'\n",
    "OPTION_PRICES_AVG_COL = 'avg'\n",
    "OPTION_PRICES_ID_COL = 'optionid'\n",
    "OPTION_PRICES_DATE_FMT = '%Y%m%d'\n",
    "OPTION_PRICES_OTM_RANGE = 'otm_range'\n",
    "\n",
    "def load_option_prices(path):\n",
    "  option_prices = pd.read_csv(path);\n",
    "  option_prices[OPTION_PRICES_DATE_COL] = pd.to_datetime(\n",
    "      option_prices[OPTION_PRICES_DATE_COL],\n",
    "      format=OPTION_PRICES_DATE_FMT)\n",
    "  option_prices[OPTION_PRICES_EXPIRATION_COL] = pd.to_datetime(\n",
    "      option_prices[OPTION_PRICES_EXPIRATION_COL],\n",
    "      format=OPTION_PRICES_DATE_FMT)\n",
    "  option_prices[OPTION_PRICES_STRIKE_COL] = option_prices[OPTION_PRICES_STRIKE_COL].div(1000)\n",
    "  option_prices[OPTION_PRICES_MATURITY_COL] = (\n",
    "    option_prices[OPTION_PRICES_EXPIRATION_COL] - \n",
    "    option_prices[OPTION_PRICES_DATE_COL]\n",
    "  ).dt.days\n",
    "  option_prices[OPTION_PRICES_SPREAD_COL] = (\n",
    "    option_prices[OPTION_PRICES_OFFER_COL] - \n",
    "    option_prices[OPTION_PRICES_BID_COL]\n",
    "  )\n",
    "  option_prices[OPTION_PRICES_AVG_COL] = (\n",
    "    (\n",
    "      option_prices[OPTION_PRICES_OFFER_COL] +\n",
    "      option_prices[OPTION_PRICES_BID_COL]\n",
    "    ) / 2\n",
    "  )\n",
    "\n",
    "  return option_prices"
   ]
  },
  {
   "cell_type": "code",
   "execution_count": 7,
   "metadata": {},
   "outputs": [],
   "source": [
    "load_stock_prices('spx_index_prices.csv').to_pickle('spx_index_prices.pkl')"
   ]
  },
  {
   "cell_type": "code",
   "execution_count": 8,
   "metadata": {},
   "outputs": [],
   "source": [
    "load_option_prices('spx_option_prices.csv').to_pickle('spx_option_prices.pkl')"
   ]
  }
 ],
 "metadata": {
  "kernelspec": {
   "display_name": "Python 3.8.1 64-bit ('puts': conda)",
   "language": "python",
   "name": "python38164bitputscondaec814d430c084d518257bf4cbac185fe"
  },
  "language_info": {
   "codemirror_mode": {
    "name": "ipython",
    "version": 3
   },
   "file_extension": ".py",
   "mimetype": "text/x-python",
   "name": "python",
   "nbconvert_exporter": "python",
   "pygments_lexer": "ipython3",
   "version": "3.8.1"
  }
 },
 "nbformat": 4,
 "nbformat_minor": 4
}
