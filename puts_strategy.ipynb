{
 "cells": [
  {
   "cell_type": "code",
   "execution_count": 38,
   "metadata": {},
   "outputs": [],
   "source": [
    "import numpy as np\n",
    "import pandas as pd\n",
    "import matplotlib.pyplot as plt\n",
    "import matplotlib.dates as mdates\n",
    "import time\n",
    "import math\n",
    "\n",
    "from datetime import datetime"
   ]
  },
  {
   "cell_type": "markdown",
   "metadata": {},
   "source": [
    "## Stock Prices"
   ]
  },
  {
   "cell_type": "code",
   "execution_count": 39,
   "metadata": {},
   "outputs": [],
   "source": [
    "STOCK_PRICES_DATE_COL = 'Date'\n",
    "STOCK_PRICES_HIGH_COL = 'High'\n",
    "STOCK_PRICES_LOW_COL = 'Low'\n",
    "STOCK_PRICES_AVG_COL = 'Avg'\n",
    "\n",
    "def load_stock_prices(path):\n",
    "  stock_prices = pd.read_csv(path)\n",
    "  stock_prices[STOCK_PRICES_DATE_COL] = pd.to_datetime(stock_prices[STOCK_PRICES_DATE_COL])\n",
    "  stock_prices[STOCK_PRICES_AVG_COL] = ((stock_prices[STOCK_PRICES_HIGH_COL] + stock_prices[STOCK_PRICES_LOW_COL]) / 2)\n",
    "  stock_prices = stock_prices.set_index(STOCK_PRICES_DATE_COL)\n",
    "\n",
    "  return stock_prices"
   ]
  },
  {
   "cell_type": "code",
   "execution_count": 40,
   "metadata": {},
   "outputs": [
    {
     "output_type": "execute_result",
     "data": {
      "text/html": "<div>\n<style scoped>\n    .dataframe tbody tr th:only-of-type {\n        vertical-align: middle;\n    }\n\n    .dataframe tbody tr th {\n        vertical-align: top;\n    }\n\n    .dataframe thead th {\n        text-align: right;\n    }\n</style>\n<table border=\"1\" class=\"dataframe\">\n  <thead>\n    <tr style=\"text-align: right;\">\n      <th></th>\n      <th>Open</th>\n      <th>High</th>\n      <th>Low</th>\n      <th>Close</th>\n      <th>Adj Close</th>\n      <th>Volume</th>\n      <th>Avg</th>\n    </tr>\n    <tr>\n      <th>Date</th>\n      <th></th>\n      <th></th>\n      <th></th>\n      <th></th>\n      <th></th>\n      <th></th>\n      <th></th>\n    </tr>\n  </thead>\n  <tbody>\n    <tr>\n      <th>2000-01-03</th>\n      <td>1469.250000</td>\n      <td>1478.000000</td>\n      <td>1438.359985</td>\n      <td>1455.219971</td>\n      <td>1455.219971</td>\n      <td>931800000</td>\n      <td>1458.179993</td>\n    </tr>\n    <tr>\n      <th>2000-01-04</th>\n      <td>1455.219971</td>\n      <td>1455.219971</td>\n      <td>1397.430054</td>\n      <td>1399.420044</td>\n      <td>1399.420044</td>\n      <td>1009000000</td>\n      <td>1426.325012</td>\n    </tr>\n    <tr>\n      <th>2000-01-05</th>\n      <td>1399.420044</td>\n      <td>1413.270020</td>\n      <td>1377.680054</td>\n      <td>1402.109985</td>\n      <td>1402.109985</td>\n      <td>1085500000</td>\n      <td>1395.475037</td>\n    </tr>\n    <tr>\n      <th>2000-01-06</th>\n      <td>1402.109985</td>\n      <td>1411.900024</td>\n      <td>1392.099976</td>\n      <td>1403.449951</td>\n      <td>1403.449951</td>\n      <td>1092300000</td>\n      <td>1402.000000</td>\n    </tr>\n    <tr>\n      <th>2000-01-07</th>\n      <td>1403.449951</td>\n      <td>1441.469971</td>\n      <td>1400.729980</td>\n      <td>1441.469971</td>\n      <td>1441.469971</td>\n      <td>1225200000</td>\n      <td>1421.099976</td>\n    </tr>\n    <tr>\n      <th>...</th>\n      <td>...</td>\n      <td>...</td>\n      <td>...</td>\n      <td>...</td>\n      <td>...</td>\n      <td>...</td>\n      <td>...</td>\n    </tr>\n    <tr>\n      <th>2020-03-16</th>\n      <td>2508.590088</td>\n      <td>2562.979980</td>\n      <td>2380.939941</td>\n      <td>2386.129883</td>\n      <td>2386.129883</td>\n      <td>7781540000</td>\n      <td>2471.959961</td>\n    </tr>\n    <tr>\n      <th>2020-03-17</th>\n      <td>2425.659912</td>\n      <td>2553.929932</td>\n      <td>2367.040039</td>\n      <td>2529.189941</td>\n      <td>2529.189941</td>\n      <td>8358500000</td>\n      <td>2460.484986</td>\n    </tr>\n    <tr>\n      <th>2020-03-18</th>\n      <td>2436.500000</td>\n      <td>2453.570068</td>\n      <td>2280.520020</td>\n      <td>2398.100098</td>\n      <td>2398.100098</td>\n      <td>8755780000</td>\n      <td>2367.045044</td>\n    </tr>\n    <tr>\n      <th>2020-03-19</th>\n      <td>2393.479980</td>\n      <td>2466.969971</td>\n      <td>2319.780029</td>\n      <td>2409.389893</td>\n      <td>2409.389893</td>\n      <td>7946710000</td>\n      <td>2393.375000</td>\n    </tr>\n    <tr>\n      <th>2020-03-20</th>\n      <td>2431.939941</td>\n      <td>2453.010010</td>\n      <td>2295.560059</td>\n      <td>2304.919922</td>\n      <td>2304.919922</td>\n      <td>9044690000</td>\n      <td>2374.285034</td>\n    </tr>\n  </tbody>\n</table>\n<p>5086 rows × 7 columns</p>\n</div>",
      "text/plain": "                   Open         High          Low        Close    Adj Close  \\\nDate                                                                          \n2000-01-03  1469.250000  1478.000000  1438.359985  1455.219971  1455.219971   \n2000-01-04  1455.219971  1455.219971  1397.430054  1399.420044  1399.420044   \n2000-01-05  1399.420044  1413.270020  1377.680054  1402.109985  1402.109985   \n2000-01-06  1402.109985  1411.900024  1392.099976  1403.449951  1403.449951   \n2000-01-07  1403.449951  1441.469971  1400.729980  1441.469971  1441.469971   \n...                 ...          ...          ...          ...          ...   \n2020-03-16  2508.590088  2562.979980  2380.939941  2386.129883  2386.129883   \n2020-03-17  2425.659912  2553.929932  2367.040039  2529.189941  2529.189941   \n2020-03-18  2436.500000  2453.570068  2280.520020  2398.100098  2398.100098   \n2020-03-19  2393.479980  2466.969971  2319.780029  2409.389893  2409.389893   \n2020-03-20  2431.939941  2453.010010  2295.560059  2304.919922  2304.919922   \n\n                Volume          Avg  \nDate                                 \n2000-01-03   931800000  1458.179993  \n2000-01-04  1009000000  1426.325012  \n2000-01-05  1085500000  1395.475037  \n2000-01-06  1092300000  1402.000000  \n2000-01-07  1225200000  1421.099976  \n...                ...          ...  \n2020-03-16  7781540000  2471.959961  \n2020-03-17  8358500000  2460.484986  \n2020-03-18  8755780000  2367.045044  \n2020-03-19  7946710000  2393.375000  \n2020-03-20  9044690000  2374.285034  \n\n[5086 rows x 7 columns]"
     },
     "metadata": {},
     "execution_count": 40
    }
   ],
   "source": [
    "SPX_PRICES_FILE_PATH = 'spx_index_prices.csv'\n",
    "STOCK_PRICES = load_stock_prices(SPX_PRICES_FILE_PATH)\n",
    "STOCK_PRICES"
   ]
  },
  {
   "cell_type": "markdown",
   "metadata": {},
   "source": [
    "## Option Prices"
   ]
  },
  {
   "cell_type": "code",
   "execution_count": 41,
   "metadata": {},
   "outputs": [],
   "source": [
    "OPTION_PRICES_DATE_COL = 'date'\n",
    "OPTION_PRICES_EXPIRATION_COL = 'exdate'\n",
    "OPTION_PRICES_MATURITY_COL = 'maturity'\n",
    "OPTION_PRICES_STRIKE_COL = 'strike_price'\n",
    "OPTION_PRICES_BID_COL = 'best_bid'\n",
    "OPTION_PRICES_OFFER_COL = 'best_offer'\n",
    "OPTION_PRICES_SPREAD_COL = 'spread'\n",
    "OPTION_PRICES_AVG_COL = 'avg'\n",
    "OPTION_PRICES_ID_COL = 'optionid'\n",
    "OPTION_PRICES_DATE_FMT = '%Y%m%d'\n",
    "OPTION_PRICES_OTM_RANGE = 'otm_range'\n",
    "\n",
    "def load_option_prices(path):\n",
    "  option_prices = pd.read_csv(SPX_OPTION_PRICES_FILE_PATH);\n",
    "  option_prices[OPTION_PRICES_DATE_COL] = pd.to_datetime(\n",
    "      option_prices[OPTION_PRICES_DATE_COL],\n",
    "      format=OPTION_PRICES_DATE_FMT)\n",
    "  option_prices[OPTION_PRICES_EXPIRATION_COL] = pd.to_datetime(\n",
    "      option_prices[OPTION_PRICES_EXPIRATION_COL],\n",
    "      format=OPTION_PRICES_DATE_FMT)\n",
    "  option_prices[OPTION_PRICES_STRIKE_COL] = option_prices[OPTION_PRICES_STRIKE_COL].div(1000)\n",
    "  option_prices[OPTION_PRICES_MATURITY_COL] = (\n",
    "    option_prices[OPTION_PRICES_EXPIRATION_COL] - \n",
    "    option_prices[OPTION_PRICES_DATE_COL]\n",
    "  ).dt.days\n",
    "  option_prices[OPTION_PRICES_SPREAD_COL] = (\n",
    "    option_prices[OPTION_PRICES_OFFER_COL] - \n",
    "    option_prices[OPTION_PRICES_BID_COL]\n",
    "  )\n",
    "  option_prices[OPTION_PRICES_AVG_COL] = (\n",
    "    (\n",
    "      option_prices[OPTION_PRICES_OFFER_COL] +\n",
    "      option_prices[OPTION_PRICES_BID_COL]\n",
    "    ) / 2\n",
    "  )\n",
    "\n",
    "  return option_prices"
   ]
  },
  {
   "cell_type": "code",
   "execution_count": 42,
   "metadata": {},
   "outputs": [
    {
     "output_type": "execute_result",
     "data": {
      "text/html": "<div>\n<style scoped>\n    .dataframe tbody tr th:only-of-type {\n        vertical-align: middle;\n    }\n\n    .dataframe tbody tr th {\n        vertical-align: top;\n    }\n\n    .dataframe thead th {\n        text-align: right;\n    }\n</style>\n<table border=\"1\" class=\"dataframe\">\n  <thead>\n    <tr style=\"text-align: right;\">\n      <th></th>\n      <th>secid</th>\n      <th>date</th>\n      <th>exdate</th>\n      <th>last_date</th>\n      <th>cp_flag</th>\n      <th>strike_price</th>\n      <th>best_bid</th>\n      <th>best_offer</th>\n      <th>volume</th>\n      <th>open_interest</th>\n      <th>...</th>\n      <th>vega</th>\n      <th>theta</th>\n      <th>optionid</th>\n      <th>forward_price</th>\n      <th>index_flag</th>\n      <th>issuer</th>\n      <th>exercise_style</th>\n      <th>maturity</th>\n      <th>spread</th>\n      <th>avg</th>\n    </tr>\n  </thead>\n  <tbody>\n    <tr>\n      <th>0</th>\n      <td>108105</td>\n      <td>2000-01-03</td>\n      <td>2000-03-18</td>\n      <td>19991229.0</td>\n      <td>P</td>\n      <td>1410.0</td>\n      <td>36.750</td>\n      <td>38.750</td>\n      <td>0</td>\n      <td>1</td>\n      <td>...</td>\n      <td>235.99500</td>\n      <td>-119.41110</td>\n      <td>10120210</td>\n      <td>1470.521157</td>\n      <td>1</td>\n      <td>CBOE S&amp;P 500 INDEX</td>\n      <td>E</td>\n      <td>75</td>\n      <td>2.0</td>\n      <td>37.750</td>\n    </tr>\n    <tr>\n      <th>1</th>\n      <td>108105</td>\n      <td>2000-01-03</td>\n      <td>2000-01-22</td>\n      <td>19991223.0</td>\n      <td>P</td>\n      <td>1505.0</td>\n      <td>55.250</td>\n      <td>57.250</td>\n      <td>0</td>\n      <td>50</td>\n      <td>...</td>\n      <td>100.89450</td>\n      <td>-172.62950</td>\n      <td>10000760</td>\n      <td>1458.650389</td>\n      <td>1</td>\n      <td>CBOE S&amp;P 500 INDEX</td>\n      <td>E</td>\n      <td>19</td>\n      <td>2.0</td>\n      <td>56.250</td>\n    </tr>\n    <tr>\n      <th>2</th>\n      <td>108105</td>\n      <td>2000-01-03</td>\n      <td>2000-06-17</td>\n      <td>20000103.0</td>\n      <td>P</td>\n      <td>1350.0</td>\n      <td>40.750</td>\n      <td>42.750</td>\n      <td>290</td>\n      <td>14570</td>\n      <td>...</td>\n      <td>311.57080</td>\n      <td>-66.86736</td>\n      <td>10016917</td>\n      <td>1490.761534</td>\n      <td>1</td>\n      <td>CBOE S&amp;P 500 INDEX</td>\n      <td>E</td>\n      <td>166</td>\n      <td>2.0</td>\n      <td>41.750</td>\n    </tr>\n    <tr>\n      <th>3</th>\n      <td>108105</td>\n      <td>2000-01-03</td>\n      <td>2000-01-22</td>\n      <td>20000103.0</td>\n      <td>P</td>\n      <td>1500.0</td>\n      <td>51.625</td>\n      <td>53.625</td>\n      <td>57</td>\n      <td>505</td>\n      <td>...</td>\n      <td>105.71350</td>\n      <td>-186.79210</td>\n      <td>10149633</td>\n      <td>1458.650389</td>\n      <td>1</td>\n      <td>CBOE S&amp;P 500 INDEX</td>\n      <td>E</td>\n      <td>19</td>\n      <td>2.0</td>\n      <td>52.625</td>\n    </tr>\n    <tr>\n      <th>4</th>\n      <td>108105</td>\n      <td>2000-01-03</td>\n      <td>2000-01-22</td>\n      <td>NaN</td>\n      <td>P</td>\n      <td>1540.0</td>\n      <td>84.875</td>\n      <td>86.875</td>\n      <td>0</td>\n      <td>0</td>\n      <td>...</td>\n      <td>68.56206</td>\n      <td>-96.37443</td>\n      <td>10056576</td>\n      <td>1458.650389</td>\n      <td>1</td>\n      <td>CBOE S&amp;P 500 INDEX</td>\n      <td>E</td>\n      <td>19</td>\n      <td>2.0</td>\n      <td>85.875</td>\n    </tr>\n    <tr>\n      <th>...</th>\n      <td>...</td>\n      <td>...</td>\n      <td>...</td>\n      <td>...</td>\n      <td>...</td>\n      <td>...</td>\n      <td>...</td>\n      <td>...</td>\n      <td>...</td>\n      <td>...</td>\n      <td>...</td>\n      <td>...</td>\n      <td>...</td>\n      <td>...</td>\n      <td>...</td>\n      <td>...</td>\n      <td>...</td>\n      <td>...</td>\n      <td>...</td>\n      <td>...</td>\n      <td>...</td>\n    </tr>\n    <tr>\n      <th>8462523</th>\n      <td>108105</td>\n      <td>2019-06-28</td>\n      <td>2020-06-30</td>\n      <td>NaN</td>\n      <td>P</td>\n      <td>3800.0</td>\n      <td>824.100</td>\n      <td>848.000</td>\n      <td>0</td>\n      <td>0</td>\n      <td>...</td>\n      <td>NaN</td>\n      <td>NaN</td>\n      <td>129500433</td>\n      <td>2942.162769</td>\n      <td>1</td>\n      <td>CBOE S&amp;P 500 INDEX</td>\n      <td>E</td>\n      <td>368</td>\n      <td>23.9</td>\n      <td>836.050</td>\n    </tr>\n    <tr>\n      <th>8462524</th>\n      <td>108105</td>\n      <td>2019-06-28</td>\n      <td>2020-06-30</td>\n      <td>NaN</td>\n      <td>P</td>\n      <td>3900.0</td>\n      <td>921.200</td>\n      <td>945.200</td>\n      <td>0</td>\n      <td>0</td>\n      <td>...</td>\n      <td>NaN</td>\n      <td>NaN</td>\n      <td>129500434</td>\n      <td>2942.162769</td>\n      <td>1</td>\n      <td>CBOE S&amp;P 500 INDEX</td>\n      <td>E</td>\n      <td>368</td>\n      <td>24.0</td>\n      <td>933.200</td>\n    </tr>\n    <tr>\n      <th>8462525</th>\n      <td>108105</td>\n      <td>2019-06-28</td>\n      <td>2020-06-30</td>\n      <td>NaN</td>\n      <td>P</td>\n      <td>4000.0</td>\n      <td>1018.700</td>\n      <td>1042.500</td>\n      <td>0</td>\n      <td>0</td>\n      <td>...</td>\n      <td>NaN</td>\n      <td>NaN</td>\n      <td>129500435</td>\n      <td>2942.162769</td>\n      <td>1</td>\n      <td>CBOE S&amp;P 500 INDEX</td>\n      <td>E</td>\n      <td>368</td>\n      <td>23.8</td>\n      <td>1030.600</td>\n    </tr>\n    <tr>\n      <th>8462526</th>\n      <td>108105</td>\n      <td>2019-06-28</td>\n      <td>2020-06-30</td>\n      <td>NaN</td>\n      <td>P</td>\n      <td>4100.0</td>\n      <td>1116.100</td>\n      <td>1140.000</td>\n      <td>0</td>\n      <td>0</td>\n      <td>...</td>\n      <td>NaN</td>\n      <td>NaN</td>\n      <td>129500436</td>\n      <td>2942.162769</td>\n      <td>1</td>\n      <td>CBOE S&amp;P 500 INDEX</td>\n      <td>E</td>\n      <td>368</td>\n      <td>23.9</td>\n      <td>1128.050</td>\n    </tr>\n    <tr>\n      <th>8462527</th>\n      <td>108105</td>\n      <td>2019-06-28</td>\n      <td>2020-06-30</td>\n      <td>NaN</td>\n      <td>P</td>\n      <td>4200.0</td>\n      <td>1213.900</td>\n      <td>1237.900</td>\n      <td>0</td>\n      <td>0</td>\n      <td>...</td>\n      <td>NaN</td>\n      <td>NaN</td>\n      <td>129500437</td>\n      <td>2942.162769</td>\n      <td>1</td>\n      <td>CBOE S&amp;P 500 INDEX</td>\n      <td>E</td>\n      <td>368</td>\n      <td>24.0</td>\n      <td>1225.900</td>\n    </tr>\n  </tbody>\n</table>\n<p>8462528 rows × 23 columns</p>\n</div>",
      "text/plain": "          secid       date     exdate   last_date cp_flag  strike_price  \\\n0        108105 2000-01-03 2000-03-18  19991229.0       P        1410.0   \n1        108105 2000-01-03 2000-01-22  19991223.0       P        1505.0   \n2        108105 2000-01-03 2000-06-17  20000103.0       P        1350.0   \n3        108105 2000-01-03 2000-01-22  20000103.0       P        1500.0   \n4        108105 2000-01-03 2000-01-22         NaN       P        1540.0   \n...         ...        ...        ...         ...     ...           ...   \n8462523  108105 2019-06-28 2020-06-30         NaN       P        3800.0   \n8462524  108105 2019-06-28 2020-06-30         NaN       P        3900.0   \n8462525  108105 2019-06-28 2020-06-30         NaN       P        4000.0   \n8462526  108105 2019-06-28 2020-06-30         NaN       P        4100.0   \n8462527  108105 2019-06-28 2020-06-30         NaN       P        4200.0   \n\n         best_bid  best_offer  volume  open_interest  ...       vega  \\\n0          36.750      38.750       0              1  ...  235.99500   \n1          55.250      57.250       0             50  ...  100.89450   \n2          40.750      42.750     290          14570  ...  311.57080   \n3          51.625      53.625      57            505  ...  105.71350   \n4          84.875      86.875       0              0  ...   68.56206   \n...           ...         ...     ...            ...  ...        ...   \n8462523   824.100     848.000       0              0  ...        NaN   \n8462524   921.200     945.200       0              0  ...        NaN   \n8462525  1018.700    1042.500       0              0  ...        NaN   \n8462526  1116.100    1140.000       0              0  ...        NaN   \n8462527  1213.900    1237.900       0              0  ...        NaN   \n\n             theta   optionid  forward_price  index_flag              issuer  \\\n0       -119.41110   10120210    1470.521157           1  CBOE S&P 500 INDEX   \n1       -172.62950   10000760    1458.650389           1  CBOE S&P 500 INDEX   \n2        -66.86736   10016917    1490.761534           1  CBOE S&P 500 INDEX   \n3       -186.79210   10149633    1458.650389           1  CBOE S&P 500 INDEX   \n4        -96.37443   10056576    1458.650389           1  CBOE S&P 500 INDEX   \n...            ...        ...            ...         ...                 ...   \n8462523        NaN  129500433    2942.162769           1  CBOE S&P 500 INDEX   \n8462524        NaN  129500434    2942.162769           1  CBOE S&P 500 INDEX   \n8462525        NaN  129500435    2942.162769           1  CBOE S&P 500 INDEX   \n8462526        NaN  129500436    2942.162769           1  CBOE S&P 500 INDEX   \n8462527        NaN  129500437    2942.162769           1  CBOE S&P 500 INDEX   \n\n         exercise_style  maturity spread       avg  \n0                     E        75    2.0    37.750  \n1                     E        19    2.0    56.250  \n2                     E       166    2.0    41.750  \n3                     E        19    2.0    52.625  \n4                     E        19    2.0    85.875  \n...                 ...       ...    ...       ...  \n8462523               E       368   23.9   836.050  \n8462524               E       368   24.0   933.200  \n8462525               E       368   23.8  1030.600  \n8462526               E       368   23.9  1128.050  \n8462527               E       368   24.0  1225.900  \n\n[8462528 rows x 23 columns]"
     },
     "metadata": {},
     "execution_count": 42
    }
   ],
   "source": [
    "SPX_OPTION_PRICES_FILE_PATH = 'spx_option_prices.csv'\n",
    "OPTION_PRICES = load_option_prices(SPX_OPTION_PRICES_FILE_PATH)\n",
    "OPTION_PRICES"
   ]
  },
  {
   "cell_type": "markdown",
   "metadata": {},
   "source": [
    "## Algorithm\n"
   ]
  },
  {
   "cell_type": "code",
   "execution_count": 43,
   "metadata": {},
   "outputs": [],
   "source": [
    "## Portfolio Log\n",
    "\n",
    "PORTFOLIO_DATE = 'date'\n",
    "PORTFOLIO_CASH = 'cash'\n",
    "PORTFOLIO_STOCK_QUANTITY = 'stock_quantity'\n",
    "PORTFOLIO_OPTION_QUANTITY = 'option_quantity'\n",
    "PORTFOLIO_OPTION_ID = 'option_id'\n",
    "\n",
    "def build_portfolio_log(): \n",
    "    portfolio_log = pd.DataFrame(\n",
    "        columns=[\n",
    "            PORTFOLIO_DATE,\n",
    "            PORTFOLIO_CASH,\n",
    "            PORTFOLIO_STOCK_QUANTITY,\n",
    "            PORTFOLIO_OPTION_QUANTITY,\n",
    "            PORTFOLIO_OPTION_ID,\n",
    "        ]\n",
    "    )\n",
    "    portfolio_log.index = portfolio_log[PORTFOLIO_DATE]\n",
    "\n",
    "    return portfolio_log\n",
    "\n",
    "def build_portfolio_row(\n",
    "    date, \n",
    "    cash, \n",
    "    stock_quantity, \n",
    "    option_quantity,\n",
    "    option_id):\n",
    "    return pd.Series({\n",
    "        PORTFOLIO_DATE: date,\n",
    "        PORTFOLIO_CASH: cash,\n",
    "        PORTFOLIO_STOCK_QUANTITY: stock_quantity,\n",
    "        PORTFOLIO_OPTION_QUANTITY: option_quantity,\n",
    "        PORTFOLIO_OPTION_ID: option_id,\n",
    "    })"
   ]
  },
  {
   "cell_type": "code",
   "execution_count": 44,
   "metadata": {},
   "outputs": [],
   "source": [
    "## Goal \n",
    "\n",
    "GOAL_GET_STOCK_ALLOC = 'get_stock_alloc'\n",
    "GOAL_OTM_RANGE = 'otm_range'\n",
    "GOAL_MATURITY_RANGE = 'maturity_range'\n",
    "\n",
    "def build_goal(get_stock_alloc, otm_range, maturity_range):\n",
    "    return {\n",
    "        GOAL_STOCK_ALLOC: get_stock_alloc, \n",
    "        GOAL_OTM_RANGE: otm_range, \n",
    "        GOAL_MATURITY_RANGE: maturity_range\n",
    "    }"
   ]
  },
  {
   "cell_type": "code",
   "execution_count": 45,
   "metadata": {},
   "outputs": [],
   "source": [
    "## Stocks: Sell\n",
    "\n",
    "def get_stock_price(date):\n",
    "    return STOCK_PRICES.loc[date][STOCK_PRICES_AVG_COL]\n",
    "\n",
    "def liquidate_stock(portfolio_row):\n",
    "    stock_quantity = portfolio_row[PORTFOLIO_STOCK_QUANTITY]\n",
    "    if not stock_quantity:\n",
    "        return 0\n",
    "\n",
    "    return stock_quantity * get_stock_price(portfolio_row[portfolio_date])\n"
   ]
  },
  {
   "cell_type": "code",
   "execution_count": 46,
   "metadata": {},
   "outputs": [],
   "source": [
    "## Options: sell\n",
    "\n",
    "def get_option_row(date, option_id):\n",
    "    options_for_date = OPTION_PRICES[OPTION_PRICES[OPTION_PRICES_DATE_COL] == date]\n",
    "    options_with_id = options_for_date[options_for_date[OPTION_PRICES_OPTION_ID == option_id]]\n",
    "    if (options_with_id.shape[0] != 1):\n",
    "        raise SystemExit(\"Uh oh, expected to find one option row date = {} option_id = {}\".format(date, option_id))\n",
    "\n",
    "def get_option_buy_price(row):\n",
    "    return row[OPTION_PRICES_OFFER_COL]\n",
    "\n",
    "def liquidate_option(portfolio_row):\n",
    "    option_id = portfolio_row[PORTFOLIO_OPTION_ID]\n",
    "    if not option_id:\n",
    "        return 0\n",
    "\n",
    "    return (\n",
    "        portfolio_row[PORTFOLIO_OPTION_QUANTITY] * \n",
    "        get_option_sell_price(\n",
    "            get_option_row(portfolio_row[PORTFOLIO_DATE], option_id)\n",
    "        )\n",
    "    )"
   ]
  },
  {
   "cell_type": "code",
   "execution_count": 47,
   "metadata": {},
   "outputs": [],
   "source": [
    "## Options: Buy\n",
    "\n",
    "def find_potential_option_rows_to_buy(date, otm_range, expiration_range):\n",
    "  options_on_this_date = OPTION_PRICES[OPTION_PRICES[OPTION_PRICES_DATE_COL] == date]\n",
    "  options_within_expiration_range = options_on_this_date[\n",
    "    options_on_this_date[OPTION_PRICES_MATURITY_COL]\n",
    "      .between(maturity_range[0], maturity_range[1])\n",
    "  ]\n",
    "  options_within_otm_range = options_for_otm_range(\n",
    "    date,\n",
    "    options_within_expiration_range,\n",
    "    otm_range\n",
    "  )\n",
    "  options_sorted_by_lowest_price_at_highest_strike = options_within_otm_range.sort_values(\n",
    "    by=[OPTION_PRICES_OFFER_COL, OPTION_PRICES_STRIKE_COL], \n",
    "    ascending=[True, False]\n",
    "  )\n",
    "  \n",
    "  return options_sorted_by_lowest_price_at_highest_strike\n",
    "\n",
    "def get_option_row_to_buy(date, otm_range, maturity_range):\n",
    "  best_option_rows = find_potential_option_rows_to_buy(date, otm_range, maturity_range)\n",
    "  if best_option_rows.empty:\n",
    "    raise SystemExit(\"wasn't able to find an option for {}\".format(date))\n",
    "  \n",
    "  return best_option_rows.iloc[0]"
   ]
  },
  {
   "cell_type": "code",
   "execution_count": 48,
   "metadata": {},
   "outputs": [],
   "source": [
    "## Liquidation\n",
    "\n",
    "def liquidate_portfolio(portfolio_row):\n",
    "  return (\n",
    "      portfolio_row[PORTFOLIO_CASH] + \n",
    "      liquidate_stock(portfolio_row) + \n",
    "      liquidate_opstion(portfolio_row)\n",
    "  )"
   ]
  },
  {
   "cell_type": "code",
   "execution_count": 49,
   "metadata": {},
   "outputs": [],
   "source": [
    "## Purchase\n",
    "\n",
    "def purchase(cash_available, price_per_item):\n",
    "  quantity = cash_available // price\n",
    "  return (quantity, quantity * price)"
   ]
  },
  {
   "cell_type": "code",
   "execution_count": 50,
   "metadata": {},
   "outputs": [],
   "source": [
    "## Algo: Trade at a specific date\n",
    "\n",
    "def trade_portfolio(\n",
    "    current_portfolio_row,\n",
    "    stock_alloc,\n",
    "    option_row):\n",
    "  cash_available = liquidate_portfolio(current_portfolio_row)\n",
    "  stock_cash = cash_available * stock_alloc\n",
    "  option_cash = cash_available - stock_alloc\n",
    "  \n",
    "  (stock_quantity, stock_cash_used) = purchase( \n",
    "      stock_cash,\n",
    "      get_stock_price(date)\n",
    "  )\n",
    "\n",
    "  (option_quantity, option_cash_used) = purchase(\n",
    "      option_cash,\n",
    "      get_option_buy_price(option_row),\n",
    "  )\n",
    "\n",
    "  return build_portfolio_log(\n",
    "      date=current_portfolio_row[PORTFOLIO_DATE],\n",
    "      cash=(cash_available - (stock_cash_used + option_cash_used)),\n",
    "      stock_quantity=stock_quantity,\n",
    "      option_quantity=option_quantity,\n",
    "      option_id=option_row[OPTION_PRICES_ID_COL],\n",
    "  )"
   ]
  },
  {
   "cell_type": "code",
   "execution_count": 56,
   "metadata": {},
   "outputs": [],
   "source": [
    "## give an option row, decides when to next schedule a trade \n",
    "def get_next_trading_date(option_row):\n",
    "   start_date = option_row[OPTION_PRICES_DATE_COL]\n",
    "   end_date = option_row[OPTION_PRICES_EXPIRATION_COL]\n",
    "   available_days = pd.bdate_range(\n",
    "       start=start_date, end=end_date\n",
    "   ).intersection(OPTION_PRICES[OPTION_PRICES_DATE_COL])\n",
    "   \n",
    "   return available_days[len(available_days) // 2]"
   ]
  },
  {
   "cell_type": "code",
   "execution_count": 79,
   "metadata": {},
   "outputs": [],
   "source": [
    "def trade(cash, goal, start_date):\n",
    "    log = build_portfolio_log()\n",
    "    \n",
    "    portfolio_row = build_portfolio_row(start_date, cash, 0, 0, None)\n",
    "    while True:\n",
    "       date = portfolio_row[PORTFOLIO_DATE]\n",
    "       stock_alloc = goal[GOAL_GET_STOCK_ALLOC](date)\n",
    "       best_option_to_buy = get_option_row_to_buy(date, goal[GOAL_OTM_RANGE], goal[GOAL_MATURITY_RANGE])\n",
    "       \n",
    "       portfolio_row = trade_portfolio(portfolio_row, stock_alloc, best_option_to_buy)\n",
    "       \n",
    "       log[date] = portfolio_row\n",
    "       \n",
    "       next_date = get_next_trading_date(best_option_to_buy)\n",
    "       is_date_available = OPTION_PRICES[OPTION_PRICES[OPTION_PRICES_DATE_COL] == next_date].size == 0:\n",
    "       if not is_date_available\n",
    "           return log\n",
    "       \n",
    "       portfolio_row = portfolio_row.copy()\n",
    "       portfolio_row[PORTFOLIO_DATE] = next_date"
   ]
  }
 ],
 "metadata": {
  "language_info": {
   "name": "python",
   "codemirror_mode": {
    "name": "ipython",
    "version": 2
   },
   "version": "3.8.1-final"
  },
  "orig_nbformat": 2,
  "file_extension": ".py",
  "mimetype": "text/x-python",
  "name": "python",
  "npconvert_exporter": "python",
  "pygments_lexer": "ipython2",
  "version": 2,
  "kernelspec": {
   "name": "python38164bitputscondaec814d430c084d518257bf4cbac185fe",
   "display_name": "Python 3.8.1 64-bit ('puts': conda)"
  }
 },
 "nbformat": 4,
 "nbformat_minor": 2
}